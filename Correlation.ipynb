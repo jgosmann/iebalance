{
 "metadata": {
  "name": "Correlation"
 },
 "nbformat": 3,
 "nbformat_minor": 0,
 "worksheets": [
  {
   "cells": [
    {
     "cell_type": "code",
     "collapsed": false,
     "input": [
      "# Load data\n",
      "in_filename = \"Data/trained.h5\"\n",
      "\n",
      "try:\n",
      "    data.close()\n",
      "except:\n",
      "    pass\n",
      "\n",
      "import tables\n",
      "data = tables.openFile(in_filename, 'r')\n",
      "config = data.getNodeAttr('/', 'config')\n",
      "num_groups = config['inputs']['num_tunings']\n",
      "peak = num_groups // 2\n",
      "config"
     ],
     "language": "python",
     "metadata": {},
     "outputs": [
      {
       "output_type": "pyout",
       "prompt_number": 58,
       "text": [
        "{u'dt': [0.1, u'msecond'],\n",
        " u'inputs': {u'fraction_inhibitory': 0.2,\n",
        "  u'num_trains': 1000,\n",
        "  u'num_tunings': 8,\n",
        "  u'raw_signals': {u'approximate_normalization': 0.03,\n",
        "   u'background_activity': [5, u'hertz'],\n",
        "   u'dt': [0.1, u'msecond'],\n",
        "   u'filter_time_constant': [50, u'msecond'],\n",
        "   u'peak_firing_rate': [500, u'hertz'],\n",
        "   u'sparseness': 2},\n",
        "  u'refractory_period': [5, u'msecond']},\n",
        " u'model': {u'I_b': [0, u'amp'],\n",
        "  u'V_exc': [0, u'mvolt'],\n",
        "  u'V_inh': [-80, u'mvolt'],\n",
        "  u'V_rest': [-60, u'mvolt'],\n",
        "  u'eta': 0.001,\n",
        "  u'g_exc_bar': [140, u'psiemens'],\n",
        "  u'g_inh_bar': [350, u'psiemens'],\n",
        "  u'g_leak': [10, u'nsiemens'],\n",
        "  u'init_inh_w': [35, u'psiemens'],\n",
        "  u'refractory_period': [5, u'msecond'],\n",
        "  u'rho': [5, u'hertz'],\n",
        "  u'synapses': {u'inhibitory': {u'equations': [u'dxPre/dt = -xPre / tau_stdp : 1',\n",
        "     u'dg/dt = -g / tau_inh : siemens',\n",
        "     u'I = g * (E - V_post) : amp',\n",
        "     u'w : 1'],\n",
        "    u'post': [u'x_post += 1', u'w += g_inh_bar * eta * xPre'],\n",
        "    u'pre': [u'xPre += 1',\n",
        "     u'g += w',\n",
        "     u'w += g_inh_bar * eta * (x_post - alpha)']}},\n",
        "  u'tau': [20, u'msecond'],\n",
        "  u'tau_exc': [5, u'msecond'],\n",
        "  u'tau_inh': [10, u'msecond'],\n",
        "  u'tau_ref': [5, u'msecond'],\n",
        "  u'tau_stdp': [20, u'msecond'],\n",
        "  u'tau_w': [120, u'second'],\n",
        "  u'threshold': [-50, u'mvolt']},\n",
        " u'num_trials': 50,\n",
        " u'recording': {u'current_timestep': 10,\n",
        "  u'rate_bin_size': [2, u'second'],\n",
        "  u'recording_duration': [4, u'second'],\n",
        "  u'store_times': [[4, 100, 400], u'second'],\n",
        "  u'weights_timestep': 10000},\n",
        " u'stimulus_duration': [5, u'second']}"
       ]
      }
     ],
     "prompt_number": 58
    },
    {
     "cell_type": "code",
     "collapsed": false,
     "input": [
      "from spykeutils.rate_estimation import psth\n",
      "import neo\n",
      "import quantities as pq\n",
      "from config import quantity\n",
      "stimulus_duration = quantity(config['stimulus_duration']) * pq.s\n",
      "def spike_train_of_trial(trial_idx):\n",
      "    times = data.root.spikes._f_getChild('trial%i' % trial_idx) * pq.s\n",
      "    return neo.SpikeTrain(times - i * stimulus_duration, stimulus_duration)\n",
      "trains = [spike_train_of_trial(i) for i in xrange(data.root.spikes._v_nchildren)]\n",
      "bin_size = 10 * pq.ms\n",
      "rates, bins = psth({0: trains}, bin_size)"
     ],
     "language": "python",
     "metadata": {},
     "outputs": [],
     "prompt_number": 64
    },
    {
     "cell_type": "code",
     "collapsed": false,
     "input": [
      "dt = quantity(config['dt'])\n",
      "window_size = int(bin_size.rescale(pq.s).magnitude / dt)\n",
      "downsampled = [np.mean(s[:].reshape((-1, window_size)), axis=1) for s in data.root.signals]"
     ],
     "language": "python",
     "metadata": {},
     "outputs": [],
     "prompt_number": 60
    },
    {
     "cell_type": "code",
     "collapsed": false,
     "input": [
      "cor = [np.corrcoef(rates[0], signal)[0, 1] ** 2 for signal in downsampled]\n",
      "plt.bar(np.arange(len(cor)), cor)\n",
      "plt.ylim([0, 1])"
     ],
     "language": "python",
     "metadata": {},
     "outputs": [
      {
       "output_type": "pyout",
       "prompt_number": 65,
       "text": [
        "(0, 1)"
       ]
      }
     ],
     "prompt_number": 65
    },
    {
     "cell_type": "code",
     "collapsed": false,
     "input": [],
     "language": "python",
     "metadata": {},
     "outputs": [
      {
       "output_type": "pyout",
       "prompt_number": 48,
       "text": [
        "[<matplotlib.lines.Line2D at 0x112fc6110>]"
       ]
      }
     ],
     "prompt_number": 48
    },
    {
     "cell_type": "code",
     "collapsed": false,
     "input": [],
     "language": "python",
     "metadata": {},
     "outputs": []
    }
   ],
   "metadata": {}
  }
 ]
}