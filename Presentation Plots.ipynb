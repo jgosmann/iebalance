{
 "metadata": {
  "name": "Presentation Plots"
 },
 "nbformat": 3,
 "nbformat_minor": 0,
 "worksheets": [
  {
   "cells": [
    {
     "cell_type": "code",
     "collapsed": false,
     "input": [
      "import tables\n",
      "from neatplots.latex import LatexBeamer\n",
      "import numpy as np\n",
      "\n",
      "units = {\n",
      "    'hertz': 'Hz',\n",
      "    'second': 's',\n",
      "    'siemens': 'S'\n",
      "}\n",
      "\n",
      "LatexBeamer().apply()\n",
      "colors = [(204 / 255.0, 0 / 255.0, 0 / 255.0), (51 / 255.0, 51 / 255.0, 179 / 255.0), (0 / 255.0, 110 / 255.0, 0 / 255.0)]"
     ],
     "language": "python",
     "metadata": {},
     "outputs": [],
     "prompt_number": 3
    },
    {
     "cell_type": "heading",
     "level": 1,
     "metadata": {},
     "source": [
      "Weight Tuning"
     ]
    },
    {
     "cell_type": "code",
     "collapsed": false,
     "input": [
      "def plot_weight_tuning(axes, data, t, num_groups):\n",
      "    inh_groups = [np.nonzero(data.root.group_memberships.inhibitory[:] == i)[0] for i in xrange(num_groups)]\n",
      "    values = [np.sum(data.root.weights.inhibitory.weights[group, t]) / 1e-9 for group in inh_groups]\n",
      "    axes.plot(values, 'o-', c=colors[1], label='Inh.')\n",
      "    if hasattr(data.root.weights, 'excitatory'):\n",
      "        exc_groups = [np.nonzero(data.root.group_memberships.excitatory[:] == i)[0] for i in xrange(num_groups)]\n",
      "        if len(data.root.weights.excitatory.weights.shape) < 2:\n",
      "            slices = [np.s_[group] for group in exc_groups]\n",
      "        else:\n",
      "            slices = [np.s_[group, t] for group in exc_groups]\n",
      "        values = [np.sum(data.root.weights.excitatory.weights[s]) / 1e-9 for s in slices]\n",
      "        axes.plot(values, 's-', c=colors[0], label='Exc.')\n",
      "    axes.set_xticklabels(['S%i' % (i + 1) for i in xrange(num_groups)])\n",
      "    axes.set_xlabel('Signal no.')\n",
      "    axes.set_ylabel(u'Sum of Syn. Weights (nS)')\n",
      "    axes.set_ylim([0, 25])"
     ],
     "language": "python",
     "metadata": {},
     "outputs": [],
     "prompt_number": 30
    },
    {
     "cell_type": "code",
     "collapsed": false,
     "input": [
      "plt.figure()\n",
      "with tables.openFile('Data/simdata-long.h5', 'r') as data:\n",
      "    plot_weight_tuning(plt.gca(), data, 0, data.getNodeAttr('/', 'config')['inputs']['num_tunings'])\n",
      "handles, labels = plt.gca().get_legend_handles_labels()\n",
      "plt.figlegend(handles, labels, 'lower center', ncol=2, frameon=False)\n",
      "plt.tight_layout(rect=(0, 0.1, 1, 1))"
     ],
     "language": "python",
     "metadata": {},
     "outputs": [],
     "prompt_number": 31
    },
    {
     "cell_type": "code",
     "collapsed": false,
     "input": [
      "plt.savefig('presentation/figures/weights_before.pdf')"
     ],
     "language": "python",
     "metadata": {},
     "outputs": [],
     "prompt_number": 32
    },
    {
     "cell_type": "code",
     "collapsed": false,
     "input": [
      "plt.figure()\n",
      "with tables.openFile('Data/simdata-long.h5', 'r') as data:\n",
      "    plot_weight_tuning(plt.gca(), data, -1, data.getNodeAttr('/', 'config')['inputs']['num_tunings'])\n",
      "handles, labels = plt.gca().get_legend_handles_labels()\n",
      "plt.figlegend(handles, labels, 'lower center', ncol=2, frameon=False)\n",
      "plt.tight_layout(rect=(0, 0.1, 1, 1))"
     ],
     "language": "python",
     "metadata": {},
     "outputs": [],
     "prompt_number": 33
    },
    {
     "cell_type": "code",
     "collapsed": false,
     "input": [
      "plt.savefig('presentation/figures/weights_after.pdf')"
     ],
     "language": "python",
     "metadata": {},
     "outputs": [],
     "prompt_number": 34
    },
    {
     "cell_type": "heading",
     "level": 1,
     "metadata": {},
     "source": [
      "Firing Rate and Weight Evolution"
     ]
    },
    {
     "cell_type": "code",
     "collapsed": false,
     "input": [
      "from matplotlib.ticker import MaxNLocator\n",
      "def plot_rates_and_weights(axes, data):\n",
      "    assert data.root.rates.times.attrs.unit == data.root.weights.inhibitory.times.attrs.unit\n",
      "    axes.plot(data.root.rates.times, data.root.rates.rates, c='k')\n",
      "    axes.set_ylim([0, 60])\n",
      "    axes.set_xlabel(\"Time (%s)\" % units[data.root.rates.times.attrs.unit])\n",
      "    axes.set_ylabel(\"Firing rate (%s)\" % units[data.root.rates.rates.attrs.unit])\n",
      "    axes.xaxis.set_major_locator(MaxNLocator(4))\n",
      "\n",
      "    a2 = axes.twinx()\n",
      "    a2.set_ylim([0, 800])\n",
      "    a2.yaxis.set_major_locator(MaxNLocator(4))\n",
      "    scaled_weights = data.root.weights.inhibitory.weights[:, :] / 1e-12\n",
      "    config = data.getNodeAttr('/', 'config')\n",
      "    peak = config['inputs']['num_tunings'] // 2\n",
      "    for i, color in zip(xrange(peak - 2, peak + 1), reversed(colors)):\n",
      "        selection, = np.nonzero(data.root.group_memberships.inhibitory[:] == i)\n",
      "        a2.plot(\n",
      "            data.root.weights.inhibitory.times,\n",
      "            np.mean(scaled_weights[selection, :], axis=0),\n",
      "            '--', label=\"S%i\" % (i + 1), linewidth=2, color=color)\n",
      "    a2.set_ylabel(\"Syn. Weights (p%s)\" % units[data.root.weights.inhibitory.weights.attrs.unit])\n",
      "    return a2"
     ],
     "language": "python",
     "metadata": {},
     "outputs": [],
     "prompt_number": 57
    },
    {
     "cell_type": "code",
     "collapsed": false,
     "input": [
      "plt.figure()\n",
      "with tables.openFile('Data/simdata-long.h5', 'r') as data:\n",
      "    legend_axes = plot_rates_and_weights(plt.gca(), data)\n",
      "handles, labels = legend_axes.get_legend_handles_labels()\n",
      "plt.figlegend(handles, labels, 'lower center', ncol=3, frameon=False)\n",
      "plt.tight_layout(rect=(0, 0.1, 1, 1))"
     ],
     "language": "python",
     "metadata": {},
     "outputs": [],
     "prompt_number": 58
    },
    {
     "cell_type": "code",
     "collapsed": false,
     "input": [
      "plt.savefig('presentation/figures/evo_orig.pdf')"
     ],
     "language": "python",
     "metadata": {},
     "outputs": [],
     "prompt_number": 59
    },
    {
     "cell_type": "code",
     "collapsed": false,
     "input": [
      "plt.figure()\n",
      "with tables.openFile('Data/simdata-long-t120s.h5', 'r') as data:\n",
      "    legend_axes = plot_rates_and_weights(plt.gca(), data)\n",
      "handles, labels = legend_axes.get_legend_handles_labels()\n",
      "plt.figlegend(handles, labels, 'lower center', ncol=3, frameon=False)\n",
      "plt.tight_layout(rect=(0, 0.1, 1, 1))"
     ],
     "language": "python",
     "metadata": {},
     "outputs": [],
     "prompt_number": 60
    },
    {
     "cell_type": "code",
     "collapsed": false,
     "input": [
      "plt.savefig('presentation/figures/evo_exp_decay.pdf')"
     ],
     "language": "python",
     "metadata": {},
     "outputs": [],
     "prompt_number": 61
    },
    {
     "cell_type": "code",
     "collapsed": false,
     "input": [
      "plt.figure()\n",
      "with tables.openFile('Data/simdata-weight-dependent.h5', 'r') as data:\n",
      "    legend_axes = plot_rates_and_weights(plt.gca(), data)\n",
      "handles, labels = legend_axes.get_legend_handles_labels()\n",
      "plt.figlegend(handles, labels, 'lower center', ncol=3, frameon=False)\n",
      "plt.tight_layout(rect=(0, 0.1, 1, 1))"
     ],
     "language": "python",
     "metadata": {},
     "outputs": [],
     "prompt_number": 62
    },
    {
     "cell_type": "code",
     "collapsed": false,
     "input": [
      "plt.savefig('presentation/figures/evo_weight_dep.pdf')"
     ],
     "language": "python",
     "metadata": {},
     "outputs": [],
     "prompt_number": 63
    },
    {
     "cell_type": "heading",
     "level": 1,
     "metadata": {},
     "source": [
      "Firing Rates"
     ]
    },
    {
     "cell_type": "raw",
     "metadata": {},
     "source": [
      "see Report Plots"
     ]
    },
    {
     "cell_type": "heading",
     "level": 1,
     "metadata": {},
     "source": [
      "Excitatory Plasticity"
     ]
    },
    {
     "cell_type": "code",
     "collapsed": false,
     "input": [
      "from matplotlib.ticker import MaxNLocator\n",
      "colors = [(204 / 255.0, 0 / 255.0, 0 / 255.0), (51 / 255.0, 51 / 255.0, 179 / 255.0)]\n",
      "def plot_rates(axes, data, title):\n",
      "    assert data.root.rates.times.attrs.unit == data.root.weights.inhibitory.times.attrs.unit\n",
      "    axes.plot(data.root.rates.times, data.root.rates.rates, c=neatplots.predefined.summer.thick[2])\n",
      "    axes.set_ylim([0, 60])\n",
      "    axes.set_title(title)\n",
      "    axes.xaxis.set_major_locator(MaxNLocator(4))\n",
      "\n",
      "def plot_inh_weights(axes, data):\n",
      "    axes.set_ylim([0, 800])\n",
      "    axes.yaxis.set_major_locator(MaxNLocator(2))\n",
      "    axes.xaxis.set_major_locator(MaxNLocator(2))\n",
      "    scaled_weights = data.root.weights.inhibitory.weights[:, :] / 1e-12\n",
      "    config = data.getNodeAttr('/', 'config')\n",
      "    peak = config['inputs']['num_tunings'] // 2\n",
      "    for i, color in zip(reversed(xrange(0, 3)), colors):\n",
      "        selection, = np.nonzero(data.root.group_memberships.inhibitory[:] == i)\n",
      "        axes.plot(\n",
      "            data.root.weights.inhibitory.times,\n",
      "            np.mean(scaled_weights[selection, :], axis=0),\n",
      "            '-', label=\"S%i\" % (i + 1), color=color)\n",
      "    return axes\n",
      "\n",
      "def plot_exc_weights(axes, data):\n",
      "    axes.set_ylim([0, 800])\n",
      "    axes.yaxis.set_major_locator(MaxNLocator(2))\n",
      "    axes.xaxis.set_major_locator(MaxNLocator(2))\n",
      "    scaled_weights = data.root.weights.excitatory.weights[:, :] / 1e-12\n",
      "    config = data.getNodeAttr('/', 'config')\n",
      "    peak = config['inputs']['num_tunings'] // 2\n",
      "    for i, color in zip(reversed(xrange(0, 3)), colors):\n",
      "        selection, = np.nonzero(data.root.group_memberships.excitatory[:] == i)\n",
      "        axes.plot(\n",
      "            data.root.weights.excitatory.times,\n",
      "            np.mean(scaled_weights[selection, :], axis=0),\n",
      "            '-', label=\"S%i\" % (i + 1), color=color)"
     ],
     "language": "python",
     "metadata": {},
     "outputs": [],
     "prompt_number": 13
    },
    {
     "cell_type": "code",
     "collapsed": false,
     "input": [
      "def plot_exc_stdp(to_plot):\n",
      "    plt.figure()\n",
      "    for i, (filename, title) in enumerate(to_plot):\n",
      "        with tables.openFile(filename, 'r') as data:\n",
      "            axes = plt.subplot(2, len(to_plot), i + 1)\n",
      "            legend_axes = plot_inh_weights(axes, data)\n",
      "            if i == 0:\n",
      "                axes.set_ylabel(r\"$w^{\\mathsf{I}}$ (p%s)\" % units[data.root.weights.inhibitory.weights.attrs.unit])\n",
      "            axes = plt.subplot(2, len(to_plot), i + 1 + len(to_plot))\n",
      "            plot_exc_weights(axes, data)\n",
      "            if i == 0:\n",
      "                axes.set_ylabel(r\"$w^{\\mathsf{E}}$ (p%s)\" % units[data.root.weights.inhibitory.weights.attrs.unit])\n",
      "            axes.set_xlabel(\"Time (%s)\" % units[data.root.rates.times.attrs.unit])\n",
      "\n",
      "    handles, labels = legend_axes.get_legend_handles_labels()\n",
      "    plt.figlegend(handles, labels, 'lower center', ncol=3, frameon=False)\n",
      "        \n",
      "    plt.tight_layout(rect=(0, 0.05, 1, 1))"
     ],
     "language": "python",
     "metadata": {},
     "outputs": [],
     "prompt_number": 14
    },
    {
     "cell_type": "code",
     "collapsed": false,
     "input": [
      "to_plot = [\n",
      "    ('Data/exc-stdp-mult-l2-r1-2.h5', r'learning rate ratio 1:2'),\n",
      "    ('Data/exc-stdp-mult-l2-r1.h5', 'learning rate ratio 1:1')]\n",
      "plot_exc_stdp(to_plot)\n",
      "plt.savefig('presentation/figures/exc-stdp-mult-l2.pdf')"
     ],
     "language": "python",
     "metadata": {},
     "outputs": [],
     "prompt_number": 15
    },
    {
     "cell_type": "code",
     "collapsed": false,
     "input": [],
     "language": "python",
     "metadata": {},
     "outputs": []
    }
   ],
   "metadata": {}
  }
 ]
}