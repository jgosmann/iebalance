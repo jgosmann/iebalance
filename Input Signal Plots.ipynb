{
 "metadata": {
  "name": "Input Signal Plots"
 },
 "nbformat": 3,
 "nbformat_minor": 0,
 "worksheets": [
  {
   "cells": [
    {
     "cell_type": "code",
     "collapsed": false,
     "input": [
      "from config import quantity\n",
      "import brian\n",
      "import inputs\n",
      "import json\n",
      "\n",
      "with open('conf/single_cell/inputs.json', 'r') as cf:\n",
      "    config = json.load(cf)\n",
      "    \n",
      "gen = inputs.InputSignalGenerator(config['raw_signals'])"
     ],
     "language": "python",
     "metadata": {},
     "outputs": [],
     "prompt_number": 52
    },
    {
     "cell_type": "code",
     "collapsed": false,
     "input": [
      "dt = quantity(config['raw_signals']['dt'])\n",
      "duration = 5 * brian.second\n",
      "last_value = 0.0\n",
      "parts = 4\n",
      "raw_signal = np.empty(duration / dt)\n",
      "part_size = raw_signal.size // parts\n",
      "for i in xrange(0, raw_signal.size, part_size):\n",
      "    raw_signal[i:i + part_size] = gen.gen_filtered_white_noise(last_value, part_size)\n",
      "    last_value = raw_signal[i + part_size - 1]"
     ],
     "language": "python",
     "metadata": {},
     "outputs": [],
     "prompt_number": 53
    },
    {
     "cell_type": "code",
     "collapsed": false,
     "input": [
      "subplot(4, 1, 1)\n",
      "plt.plot(raw_signal / raw_signal.max())\n",
      "plt.ylim([-1, 1])\n",
      "plt.title(\"Time Filtered White Noise\")"
     ],
     "language": "python",
     "metadata": {},
     "outputs": [
      {
       "output_type": "pyout",
       "prompt_number": 54,
       "text": [
        "<matplotlib.text.Text at 0x114619790>"
       ]
      }
     ],
     "prompt_number": 54
    },
    {
     "cell_type": "code",
     "collapsed": false,
     "input": [
      "peak_firing_rate = quantity(config['raw_signals']['peak_firing_rate'])\n",
      "approximate_normalization = float(config['raw_signals']['approximate_normalization'])\n",
      "rectified = raw_signal.copy()\n",
      "np.maximum(0, rectified, out=rectified)\n",
      "rectified *= peak_firing_rate * dt / approximate_normalization"
     ],
     "language": "python",
     "metadata": {},
     "outputs": [],
     "prompt_number": 55
    },
    {
     "cell_type": "code",
     "collapsed": false,
     "input": [
      "subplot(4, 1, 2)\n",
      "plt.plot(rectified)\n",
      "plt.title(\"Rectified (blue)\")"
     ],
     "language": "python",
     "metadata": {},
     "outputs": [
      {
       "output_type": "pyout",
       "prompt_number": 56,
       "text": [
        "<matplotlib.text.Text at 0x113a4bf50>"
       ]
      }
     ],
     "prompt_number": 56
    },
    {
     "cell_type": "code",
     "collapsed": false,
     "input": [
      "sparsified = raw_signal.copy()\n",
      "gen.rectify(sparsified)\n",
      "plt.plot(sparsified, c='r')\n",
      "plt.title(\"Rectified (blue) + Sparsified (red)\")"
     ],
     "language": "python",
     "metadata": {},
     "outputs": [
      {
       "output_type": "pyout",
       "prompt_number": 57,
       "text": [
        "<matplotlib.text.Text at 0x113a4bf50>"
       ]
      }
     ],
     "prompt_number": 57
    },
    {
     "cell_type": "code",
     "collapsed": false,
     "input": [
      "subplot(4, 1, 3)\n",
      "gen.current_time = 5 * brian.second\n",
      "stgen = inputs.PoissonSpikeTimesGenerator(gen, np.array([0]), 5 * brian.msecond)\n",
      "import quantities as pq\n",
      "for i in xrange(100):\n",
      "    times = stgen.gen_spike_train(sparsified, 0 * brian.second, duration).rescale(pq.s).magnitude\n",
      "    plt.scatter(times, np.repeat(i, times.size), c='k', s=0.1)\n",
      "plt.xlim([0, duration / brian.second])\n",
      "plt.ylim([0, 100])"
     ],
     "language": "python",
     "metadata": {},
     "outputs": [
      {
       "output_type": "pyout",
       "prompt_number": 58,
       "text": [
        "(0, 100)"
       ]
      }
     ],
     "prompt_number": 58
    },
    {
     "cell_type": "code",
     "collapsed": false,
     "input": [],
     "language": "python",
     "metadata": {},
     "outputs": [
      {
       "output_type": "pyout",
       "prompt_number": 35,
       "text": [
        "<module 'inputs' from 'inputs.py'>"
       ]
      }
     ],
     "prompt_number": 35
    },
    {
     "cell_type": "code",
     "collapsed": false,
     "input": [],
     "language": "python",
     "metadata": {},
     "outputs": []
    }
   ],
   "metadata": {}
  }
 ]
}