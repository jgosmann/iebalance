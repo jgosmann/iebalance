{
 "metadata": {
  "name": "Exponential weight decay firing rates"
 },
 "nbformat": 3,
 "nbformat_minor": 0,
 "worksheets": [
  {
   "cells": [
    {
     "cell_type": "code",
     "collapsed": false,
     "input": [
      "import tables\n",
      "\n",
      "time_constants = [1, 10, 100, 500, 1000, 10000, 11000, 12000, 13000, 14000, 15000, 16000, 17000, 18000, 19000, 20000, 50000, 100000, 1000000]\n",
      "firing_rate_data = np.empty((len(time_constants), 2))\n",
      "for i, tau in enumerate(time_constants):\n",
      "    with tables.openFile('Data/simdata-exp-decay-t%ims.h5' % tau, 'r') as data:\n",
      "        eta = data.getNodeAttr('/', 'config')['model']['eta']\n",
      "        firing_rate_data[i, 0] = tau / 1e3\n",
      "        firing_rate_data[i, 1] = np.mean(data.root.rates.rates[3:])"
     ],
     "language": "python",
     "metadata": {},
     "outputs": [],
     "prompt_number": 1
    },
    {
     "cell_type": "code",
     "collapsed": false,
     "input": [
      "plt.scatter(firing_rate_data[:, 0], firing_rate_data[:, 1])"
     ],
     "language": "python",
     "metadata": {},
     "outputs": [
      {
       "output_type": "pyout",
       "prompt_number": 2,
       "text": [
        "<matplotlib.collections.PathCollection at 0x1128ef850>"
       ]
      }
     ],
     "prompt_number": 2
    },
    {
     "cell_type": "code",
     "collapsed": false,
     "input": [
      "import tables\n",
      "with tables.openFile('Data/rates2.h5', 'r') as data:\n",
      "    plt.scatter(data.root.rates.col('tau_w'), data.root.rates.col('rate'))\n",
      "    print data.root.rates.col('tau_w')\n",
      "    print data.root.rates.col('rate')"
     ],
     "language": "python",
     "metadata": {},
     "outputs": [
      {
       "output_type": "stream",
       "stream": "stdout",
       "text": [
        "[ 0.01        0.02        0.03        0.04        0.05        0.06        0.07\n",
        "  0.08        0.09        0.1         0.11        0.12        0.13        0.14\n",
        "  0.15000001  0.16        0.17        0.18000001  0.19        0.2       ]\n",
        "[ 33.59999847  26.85000038  22.125       18.67499924  16.54999924\n",
        "  14.67500019  12.94999981  11.72500038  10.55000019   9.64999962\n",
        "   8.97500038   8.27499962   7.4000001    6.94999981   6.4749999\n",
        "   6.1500001    5.94999981   5.57499981   5.375        5.125     ]\n"
       ]
      }
     ],
     "prompt_number": 2
    },
    {
     "cell_type": "code",
     "collapsed": false,
     "input": [
      "data = tables.openFile('Data/rates.h5', 'r')"
     ],
     "language": "python",
     "metadata": {},
     "outputs": [],
     "prompt_number": 11
    },
    {
     "cell_type": "code",
     "collapsed": false,
     "input": [
      "import firingrates\n",
      "data2 = tables.openFile('Data/rates2.h5', 'w')"
     ],
     "language": "python",
     "metadata": {},
     "outputs": [
      {
       "ename": "NameError",
       "evalue": "name 'tables' is not defined",
       "output_type": "pyerr",
       "traceback": [
        "\u001b[0;31m---------------------------------------------------------------------------\u001b[0m\n\u001b[0;31mNameError\u001b[0m                                 Traceback (most recent call last)",
        "\u001b[0;32m<ipython-input-1-a91b99c3c942>\u001b[0m in \u001b[0;36m<module>\u001b[0;34m()\u001b[0m\n\u001b[1;32m      1\u001b[0m \u001b[0;32mimport\u001b[0m \u001b[0mfiringrates\u001b[0m\u001b[0;34m\u001b[0m\u001b[0m\n\u001b[0;32m----> 2\u001b[0;31m \u001b[0mdata2\u001b[0m \u001b[0;34m=\u001b[0m \u001b[0mtables\u001b[0m\u001b[0;34m.\u001b[0m\u001b[0mopenFile\u001b[0m\u001b[0;34m(\u001b[0m\u001b[0;34m'Data/rates2.h5'\u001b[0m\u001b[0;34m,\u001b[0m \u001b[0;34m'w'\u001b[0m\u001b[0;34m)\u001b[0m\u001b[0;34m\u001b[0m\u001b[0m\n\u001b[0m",
        "\u001b[0;31mNameError\u001b[0m: name 'tables' is not defined"
       ]
      },
      {
       "output_type": "stream",
       "stream": "stderr",
       "text": [
        "/opt/local/Library/Frameworks/Python.framework/Versions/2.7/lib/python2.7/site-packages/brian/utils/sparse_patch/__init__.py:38: UserWarning: Couldn't find matching sparse matrix patch for scipy version 0.11.0, but in most cases this shouldn't be a problem.\n",
        "  warnings.warn(\"Couldn't find matching sparse matrix patch for scipy version %s, but in most cases this shouldn't be a problem.\" % scipy.__version__)\n"
       ]
      }
     ],
     "prompt_number": 1
    },
    {
     "cell_type": "code",
     "collapsed": false,
     "input": [
      "data2.setNodeAttr('/', 'config', data.getNodeAttr('/', 'config'))\n",
      "table = data2.createTable('/', 'rates', firingrates.RatesTable)\n",
      "table.attrs.unit = 'hertz'"
     ],
     "language": "python",
     "metadata": {},
     "outputs": []
    },
    {
     "cell_type": "code",
     "collapsed": false,
     "input": [
      "data2"
     ],
     "language": "python",
     "metadata": {},
     "outputs": [
      {
       "output_type": "pyout",
       "prompt_number": 18,
       "text": [
        "File(filename=Data/rates2.h5, title='', mode='w', rootUEP='/', filters=Filters(complevel=0, shuffle=False, fletcher32=False))\n",
        "/ (RootGroup) ''\n",
        "/rates (Table(0,)) ''\n",
        "  description := {\n",
        "  \"tau_w\": Float32Col(shape=(), dflt=0.0, pos=0),\n",
        "  \"rate\": Float32Col(shape=(), dflt=0.0, pos=1)}\n",
        "  byteorder := 'little'\n",
        "  chunkshape := (8192,)\n"
       ]
      }
     ],
     "prompt_number": 18
    },
    {
     "cell_type": "code",
     "collapsed": false,
     "input": [
      "for row in data.root.rates.iterrows():\n",
      "    table.row['rate'] = row['tau_w']\n",
      "    table.row['tau_w'] = row['rate']\n",
      "    table.row.append()\n",
      "data2.flush()"
     ],
     "language": "python",
     "metadata": {},
     "outputs": [],
     "prompt_number": 24
    },
    {
     "cell_type": "code",
     "collapsed": false,
     "input": [
      "data2"
     ],
     "language": "python",
     "metadata": {},
     "outputs": [
      {
       "output_type": "pyout",
       "prompt_number": 25,
       "text": [
        "File(filename=Data/rates2.h5, title='', mode='w', rootUEP='/', filters=Filters(complevel=0, shuffle=False, fletcher32=False))\n",
        "/ (RootGroup) ''\n",
        "/rates (Table(20,)) ''\n",
        "  description := {\n",
        "  \"tau_w\": Float32Col(shape=(), dflt=0.0, pos=0),\n",
        "  \"rate\": Float32Col(shape=(), dflt=0.0, pos=1)}\n",
        "  byteorder := 'little'\n",
        "  chunkshape := (8192,)\n"
       ]
      }
     ],
     "prompt_number": 25
    },
    {
     "cell_type": "code",
     "collapsed": false,
     "input": [
      "data"
     ],
     "language": "python",
     "metadata": {},
     "outputs": [
      {
       "output_type": "pyout",
       "prompt_number": 26,
       "text": [
        "File(filename=Data/rates.h5, title='', mode='r', rootUEP='/', filters=Filters(complevel=0, shuffle=False, fletcher32=False))\n",
        "/ (RootGroup) ''\n",
        "/rates (Table(20,)) ''\n",
        "  description := {\n",
        "  \"rate\": Float32Col(shape=(), dflt=0.0, pos=0),\n",
        "  \"tau_w\": Float32Col(shape=(), dflt=0.0, pos=1)}\n",
        "  byteorder := 'little'\n",
        "  chunkshape := (8192,)\n"
       ]
      }
     ],
     "prompt_number": 26
    },
    {
     "cell_type": "code",
     "collapsed": false,
     "input": [
      "data.close()"
     ],
     "language": "python",
     "metadata": {},
     "outputs": [],
     "prompt_number": 27
    },
    {
     "cell_type": "code",
     "collapsed": false,
     "input": [
      "data2.close()"
     ],
     "language": "python",
     "metadata": {},
     "outputs": [],
     "prompt_number": 28
    },
    {
     "cell_type": "code",
     "collapsed": false,
     "input": [],
     "language": "python",
     "metadata": {},
     "outputs": []
    }
   ],
   "metadata": {}
  }
 ]
}