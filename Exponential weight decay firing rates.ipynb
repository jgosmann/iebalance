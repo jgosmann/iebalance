{
 "metadata": {
  "name": "Exponential weight decay firing rates"
 },
 "nbformat": 3,
 "nbformat_minor": 0,
 "worksheets": [
  {
   "cells": [
    {
     "cell_type": "code",
     "collapsed": false,
     "input": [
      "import tables\n",
      "\n",
      "time_constants = [1, 10, 100, 500, 1000, 10000, 11000, 12000, 13000, 14000, 15000, 16000, 17000, 18000, 19000, 20000, 50000, 100000, 1000000]\n",
      "firing_rate_data = np.empty((len(time_constants), 2))\n",
      "for i, tau in enumerate(time_constants):\n",
      "    with tables.openFile('Data/simdata-exp-decay-t%ims.h5' % tau, 'r') as data:\n",
      "        eta = data.getNodeAttr('/', 'config')['model']['eta']\n",
      "        firing_rate_data[i, 0] = tau / 1e3\n",
      "        firing_rate_data[i, 1] = np.mean(data.root.rates.rates[3:])"
     ],
     "language": "python",
     "metadata": {},
     "outputs": [],
     "prompt_number": 17
    },
    {
     "cell_type": "code",
     "collapsed": false,
     "input": [
      "plt.scatter(firing_rate_data[:, 0], firing_rate_data[:, 1])"
     ],
     "language": "python",
     "metadata": {},
     "outputs": [
      {
       "output_type": "pyout",
       "prompt_number": 18,
       "text": [
        "<matplotlib.collections.PathCollection at 0x1191e3050>"
       ]
      }
     ],
     "prompt_number": 18
    },
    {
     "cell_type": "code",
     "collapsed": false,
     "input": [
      "import tables\n",
      "with tables.openFile('Data/rates.h5', 'r') as data:\n",
      "    plt.scatter(data.root.rates.col('tau_w'), data.root.rates.col('rate'))\n",
      "    print data.root.rates.col('tau_w')\n",
      "    print data.root.rates.col('rate')"
     ],
     "language": "python",
     "metadata": {},
     "outputs": [
      {
       "output_type": "stream",
       "stream": "stdout",
       "text": [
        "[ 1.44999993  1.90312493  1.57499993  1.90312493  1.64999998  1.90312493\n",
        "  1.69999993  1.90312493  1.75        1.9281249   1.77499998  1.9281249\n",
        "  1.79999995  1.9281249   1.82499993  1.9281249   1.8499999   1.90625\n",
        "  1.875       1.90625   ]\n",
        "[ -1.58818684e-23  -1.58818684e-23  -1.58818684e-23  -1.58818684e-23\n",
        "   4.17232506e-08  -1.58818684e-23  -1.58818684e-23  -1.58818684e-23\n",
        "   0.00000000e+00  -1.07374184e+08   4.17232506e-08  -1.07374184e+08\n",
        "   2.72008302e+23  -1.07374184e+08  -1.58818684e-23  -1.07374184e+08\n",
        "  -1.07374184e+08   0.00000000e+00   0.00000000e+00   0.00000000e+00]\n"
       ]
      }
     ],
     "prompt_number": 26
    },
    {
     "cell_type": "code",
     "collapsed": false,
     "input": [],
     "language": "python",
     "metadata": {},
     "outputs": []
    }
   ],
   "metadata": {}
  }
 ]
}