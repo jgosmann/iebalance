{
 "metadata": {
  "name": "Firing rates"
 },
 "nbformat": 3,
 "nbformat_minor": 0,
 "worksheets": [
  {
   "cells": [
    {
     "cell_type": "code",
     "collapsed": false,
     "input": [
      "import tables\n",
      "\n",
      "time_constants = [1, 10, 100, 500, 1000, 10000, 11000, 12000, 13000, 14000, 15000, 16000, 17000, 18000, 19000, 20000, 50000, 100000, 1000000]\n",
      "firing_rate_data = np.empty((len(time_constants), 2))\n",
      "for i, tau in enumerate(time_constants):\n",
      "    with tables.openFile('Data/simdata-exp-decay-t%ims.h5' % tau, 'r') as data:\n",
      "        eta = data.getNodeAttr('/', 'config')['model']['eta']\n",
      "        firing_rate_data[i, 0] = tau / 1e3\n",
      "        firing_rate_data[i, 1] = np.mean(data.root.rates.rates[3:])"
     ],
     "language": "python",
     "metadata": {},
     "outputs": [],
     "prompt_number": 1
    },
    {
     "cell_type": "code",
     "collapsed": false,
     "input": [
      "plt.scatter(firing_rate_data[:, 0], firing_rate_data[:, 1])"
     ],
     "language": "python",
     "metadata": {},
     "outputs": [
      {
       "output_type": "pyout",
       "prompt_number": 2,
       "text": [
        "<matplotlib.collections.PathCollection at 0x1128ef850>"
       ]
      }
     ],
     "prompt_number": 2
    },
    {
     "cell_type": "code",
     "collapsed": false,
     "input": [
      "import tables\n",
      "with tables.openFile('Data/rates-weight-dependent.h5', 'r') as data:\n",
      "    print data.getNodeAttr('/', 'config')\n",
      "    plt.scatter(data.root.rates.col('tau_w'), data.root.rates.col('rate'))\n",
      "    print data.root.rates.col('tau_w')\n",
      "    print data.root.rates.col('rate')"
     ],
     "language": "python",
     "metadata": {},
     "outputs": [
      {
       "output_type": "stream",
       "stream": "stdout",
       "text": [
        "{u'inputs': {u'num_trains': 1000, u'refractory_period': [5, u'msecond'], u'raw_signals': {u'peak_firing_rate': [500, u'hertz'], u'sparseness': 2, u'filter_time_constant': [50, u'msecond'], u'background_activity': [5, u'hertz'], u'dt': [0.1, u'msecond'], u'approximate_normalization': 0.03}, u'num_tunings': 8, u'fraction_inhibitory': 0.2}, u'stimulus_duration': [5, u'second'], u'recording': {u'store_times': [[4, 100, 400], u'second'], u'weights_timestep': 10000, u'rate_bin_size': [2, u'second'], u'recording_duration': [4, u'second'], u'current_timestep': 10}, u'num_trials': 50, u'betas': [1.0, 1.5, 2.0, 2.5, 3.0, 3.5, 4.0, 4.5, 5.0, 5.5, 6.0, 6.5, 7.0, 7.5, 8.0, 8.5, 9.0, 9.5, 10.0], u'model': {u'beta': 0.3, u'tau': [20, u'msecond'], u'g_leak': [10, u'nsiemens'], u'g_exc_bar': [140, u'psiemens'], u'refractory_period': [5, u'msecond'], u'tau_ref': [5, u'msecond'], u'V_exc': [0, u'mvolt'], u'I_b': [0, u'amp'], u'V_inh': [-80, u'mvolt'], u'tau_exc': [5, u'msecond'], u'eta': 0.001, u'init_inh_w': [35, u'psiemens'], u'V_rest': [-60, u'mvolt'], u'rho': [5, u'hertz'], u'tau_inh': [10, u'msecond'], u'threshold': [-50, u'mvolt'], u'tau_w': [120, u'second'], u'g_inh_bar': [350, u'psiemens'], u'tau_stdp': [20, u'msecond'], u'synapses': {u'excitatory': {u'pre': [u'g_exc_post += w'], u'post': [u''], u'equations': [u'w : 1']}, u'inhibitory': {u'pre': [u'xPre += 1', u'g_inh_post += w', u'w += g_inh_bar * eta * x_post - beta * eta * w'], u'post': [u'x_post += 1', u'w += g_inh_bar * eta * xPre'], u'equations': [u'dxPre/dt = -xPre / tau_stdp : 1 (event-driven)', u'w : 1']}}}, u'dt': [0.1, u'msecond']}\n",
        "[  1.    1.5   2.    2.5   3.    3.5   4.    4.5   5.    5.5   6.    6.5\n",
        "   7.    7.5   8.    8.5   9.    9.5  10. ]\n",
        "[ 11.52525234  14.91666698  17.70959663  20.10606003  22.60606003\n",
        "  24.43181801  25.96212196  27.28535271  27.76010132  28.85100937\n",
        "  29.79797935  30.62121201  32.14899063  32.81312943  33.43939209\n",
        "  34.02020264  33.99494934  34.48484802  34.91666794]\n"
       ]
      }
     ],
     "prompt_number": 4
    },
    {
     "cell_type": "code",
     "collapsed": false,
     "input": [
      "data = tables.openFile('Data/rates.h5', 'r')"
     ],
     "language": "python",
     "metadata": {},
     "outputs": [],
     "prompt_number": 11
    },
    {
     "cell_type": "code",
     "collapsed": false,
     "input": [
      "import firingrates\n",
      "data2 = tables.openFile('Data/rates2.h5', 'w')"
     ],
     "language": "python",
     "metadata": {},
     "outputs": [
      {
       "ename": "NameError",
       "evalue": "name 'tables' is not defined",
       "output_type": "pyerr",
       "traceback": [
        "\u001b[0;31m---------------------------------------------------------------------------\u001b[0m\n\u001b[0;31mNameError\u001b[0m                                 Traceback (most recent call last)",
        "\u001b[0;32m<ipython-input-1-a91b99c3c942>\u001b[0m in \u001b[0;36m<module>\u001b[0;34m()\u001b[0m\n\u001b[1;32m      1\u001b[0m \u001b[0;32mimport\u001b[0m \u001b[0mfiringrates\u001b[0m\u001b[0;34m\u001b[0m\u001b[0m\n\u001b[0;32m----> 2\u001b[0;31m \u001b[0mdata2\u001b[0m \u001b[0;34m=\u001b[0m \u001b[0mtables\u001b[0m\u001b[0;34m.\u001b[0m\u001b[0mopenFile\u001b[0m\u001b[0;34m(\u001b[0m\u001b[0;34m'Data/rates2.h5'\u001b[0m\u001b[0;34m,\u001b[0m \u001b[0;34m'w'\u001b[0m\u001b[0;34m)\u001b[0m\u001b[0;34m\u001b[0m\u001b[0m\n\u001b[0m",
        "\u001b[0;31mNameError\u001b[0m: name 'tables' is not defined"
       ]
      },
      {
       "output_type": "stream",
       "stream": "stderr",
       "text": [
        "/opt/local/Library/Frameworks/Python.framework/Versions/2.7/lib/python2.7/site-packages/brian/utils/sparse_patch/__init__.py:38: UserWarning: Couldn't find matching sparse matrix patch for scipy version 0.11.0, but in most cases this shouldn't be a problem.\n",
        "  warnings.warn(\"Couldn't find matching sparse matrix patch for scipy version %s, but in most cases this shouldn't be a problem.\" % scipy.__version__)\n"
       ]
      }
     ],
     "prompt_number": 1
    },
    {
     "cell_type": "code",
     "collapsed": false,
     "input": [
      "data2.setNodeAttr('/', 'config', data.getNodeAttr('/', 'config'))\n",
      "table = data2.createTable('/', 'rates', firingrates.RatesTable)\n",
      "table.attrs.unit = 'hertz'"
     ],
     "language": "python",
     "metadata": {},
     "outputs": []
    },
    {
     "cell_type": "code",
     "collapsed": false,
     "input": [
      "data2"
     ],
     "language": "python",
     "metadata": {},
     "outputs": [
      {
       "output_type": "pyout",
       "prompt_number": 18,
       "text": [
        "File(filename=Data/rates2.h5, title='', mode='w', rootUEP='/', filters=Filters(complevel=0, shuffle=False, fletcher32=False))\n",
        "/ (RootGroup) ''\n",
        "/rates (Table(0,)) ''\n",
        "  description := {\n",
        "  \"tau_w\": Float32Col(shape=(), dflt=0.0, pos=0),\n",
        "  \"rate\": Float32Col(shape=(), dflt=0.0, pos=1)}\n",
        "  byteorder := 'little'\n",
        "  chunkshape := (8192,)\n"
       ]
      }
     ],
     "prompt_number": 18
    },
    {
     "cell_type": "code",
     "collapsed": false,
     "input": [
      "for row in data.root.rates.iterrows():\n",
      "    table.row['rate'] = row['tau_w']\n",
      "    table.row['tau_w'] = row['rate']\n",
      "    table.row.append()\n",
      "data2.flush()"
     ],
     "language": "python",
     "metadata": {},
     "outputs": [],
     "prompt_number": 24
    },
    {
     "cell_type": "code",
     "collapsed": false,
     "input": [
      "data2"
     ],
     "language": "python",
     "metadata": {},
     "outputs": [
      {
       "output_type": "pyout",
       "prompt_number": 25,
       "text": [
        "File(filename=Data/rates2.h5, title='', mode='w', rootUEP='/', filters=Filters(complevel=0, shuffle=False, fletcher32=False))\n",
        "/ (RootGroup) ''\n",
        "/rates (Table(20,)) ''\n",
        "  description := {\n",
        "  \"tau_w\": Float32Col(shape=(), dflt=0.0, pos=0),\n",
        "  \"rate\": Float32Col(shape=(), dflt=0.0, pos=1)}\n",
        "  byteorder := 'little'\n",
        "  chunkshape := (8192,)\n"
       ]
      }
     ],
     "prompt_number": 25
    },
    {
     "cell_type": "code",
     "collapsed": false,
     "input": [
      "data"
     ],
     "language": "python",
     "metadata": {},
     "outputs": [
      {
       "output_type": "pyout",
       "prompt_number": 26,
       "text": [
        "File(filename=Data/rates.h5, title='', mode='r', rootUEP='/', filters=Filters(complevel=0, shuffle=False, fletcher32=False))\n",
        "/ (RootGroup) ''\n",
        "/rates (Table(20,)) ''\n",
        "  description := {\n",
        "  \"rate\": Float32Col(shape=(), dflt=0.0, pos=0),\n",
        "  \"tau_w\": Float32Col(shape=(), dflt=0.0, pos=1)}\n",
        "  byteorder := 'little'\n",
        "  chunkshape := (8192,)\n"
       ]
      }
     ],
     "prompt_number": 26
    },
    {
     "cell_type": "code",
     "collapsed": false,
     "input": [
      "data.close()"
     ],
     "language": "python",
     "metadata": {},
     "outputs": [],
     "prompt_number": 27
    },
    {
     "cell_type": "code",
     "collapsed": false,
     "input": [
      "data2.close()"
     ],
     "language": "python",
     "metadata": {},
     "outputs": [],
     "prompt_number": 28
    },
    {
     "cell_type": "code",
     "collapsed": false,
     "input": [],
     "language": "python",
     "metadata": {},
     "outputs": []
    }
   ],
   "metadata": {}
  }
 ]
}