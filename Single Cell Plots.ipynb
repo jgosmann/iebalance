{
 "metadata": {
  "name": "Single Cell Plots"
 },
 "nbformat": 3,
 "nbformat_minor": 0,
 "worksheets": [
  {
   "cells": [
    {
     "cell_type": "code",
     "collapsed": false,
     "input": [
      "in_filename = \"test.h5\""
     ],
     "language": "python",
     "metadata": {},
     "outputs": [],
     "prompt_number": 1
    },
    {
     "cell_type": "code",
     "collapsed": false,
     "input": [
      "data.close()"
     ],
     "language": "python",
     "metadata": {},
     "outputs": [],
     "prompt_number": 5
    },
    {
     "cell_type": "code",
     "collapsed": false,
     "input": [
      "import tables\n",
      "data = tables.openFile(in_filename, 'r')\n",
      "config = data.getNodeAttr('/', 'config')"
     ],
     "language": "python",
     "metadata": {},
     "outputs": [],
     "prompt_number": 6
    },
    {
     "cell_type": "code",
     "collapsed": false,
     "input": [
      "def plot_membrane_currents(group, duration=0.5):\n",
      "    selection = group.times > group.times[-1] - 0.5\n",
      "    times = group.times[selection]\n",
      "    exc = np.mean(group.excitatory, axis=1)[selection]\n",
      "    inh = np.mean(group.inhibitory, axis=1)[selection]\n",
      "    plt.plot(times, inh, c='gray', label='Inh.')\n",
      "    plt.plot(times, exc, c='k', label='Ex.')\n",
      "    plt.plot(times, exc + inh, c='g', label='Net')\n",
      "    plt.xlabel(\"Time (%s)\" % group.times.attrs.unit)\n",
      "    plt.ylabel(\"Mem. Curr. (%s)\" % group.excitatory.attrs.unit)\n",
      "    \n",
      "def plot_spikes(spiketimes, y):\n",
      "    if spiketimes.size > 0:\n",
      "        plt.scatter(spiketimes, np.repeat(y, spiketimes.size), c='k', s=1)\n",
      "\n",
      "plt.figure()\n",
      "titles = [\"Before\", \"During\", \"After\"]\n",
      "spikes = data.root.spikes\n",
      "duration = 0.5\n",
      "for i, (group, title) in enumerate(zip(data.root.currents, titles)):\n",
      "    plt.subplot(len(titles), 1, i + 1)\n",
      "    plot_membrane_currents(group, duration)\n",
      "    \n",
      "    end = group.times[-1]\n",
      "    start = end - duration\n",
      "    y = np.amin(group.inhibitory)\n",
      "    plot_spikes(spikes[np.logical_and(spikes > start, spikes <= end)], y)\n",
      "    plt.xlim([start, end])\n",
      "    \n",
      "    plt.title(\"%s (%s)\" % (title, group._v_name))\n",
      "    plt.legend()"
     ],
     "language": "python",
     "metadata": {},
     "outputs": [],
     "prompt_number": 8
    },
    {
     "cell_type": "code",
     "collapsed": false,
     "input": [
      "num_groups = config['inputs']['num_tunings']\n",
      "peak = num_groups // 2 + 1"
     ],
     "language": "python",
     "metadata": {},
     "outputs": [],
     "prompt_number": 9
    },
    {
     "cell_type": "code",
     "collapsed": false,
     "input": [
      "assert data.root.rates.times.attrs.unit == data.root.weights.inhibitory.times.attrs.unit\n",
      "plt.figure()\n",
      "plt.plot(data.root.rates.times, data.root.rates.rates, c='k')\n",
      "plt.ylim([0, np.amax(data.root.rates.rates)])\n",
      "plt.xlabel(\"Time (%s)\" % data.root.rates.times.attrs.unit)\n",
      "plt.ylabel(\"Firing rate (%s)\" % data.root.rates.rates.attrs.unit)\n",
      "\n",
      "plt.twinx()\n",
      "scaled_weights = data.root.weights.inhibitory.weights[:, :] / 1e-12\n",
      "for i in xrange(peak - 2, peak + 1):\n",
      "    selection, = np.nonzero(data.root.group_memberships.inhibitory[:] == i)\n",
      "    plt.plot(\n",
      "        data.root.weights.inhibitory.times,\n",
      "        np.mean(scaled_weights[selection, :], axis=0),\n",
      "        label=\"S%i\" % i)\n",
      "plt.ylim([0, np.amax(scaled_weights)])\n",
      "plt.ylabel(\"Ave. inh. cond. (p%s)\" % data.root.weights.inhibitory.weights.attrs.unit)\n",
      "plt.legend(loc='lower right')"
     ],
     "language": "python",
     "metadata": {},
     "outputs": [
      {
       "output_type": "pyout",
       "prompt_number": 13,
       "text": [
        "<matplotlib.legend.Legend at 0x11220bf90>"
       ]
      }
     ],
     "prompt_number": 13
    },
    {
     "cell_type": "code",
     "collapsed": false,
     "input": [
      "plt.figure()\n",
      "titles = [\"Before\", \"During\", \"After\"]\n",
      "for i, (node, title) in enumerate(zip(data.root.currents, titles)):\n",
      "    assert node.inhibitory.attrs.unit == node.excitatory.attrs.unit\n",
      "    plt.subplot(len(titles), 1, i + 1)\n",
      "\n",
      "    inh_groups = [np.nonzero(data.root.group_memberships.inhibitory[:] == i)[0] for i in xrange(num_groups)]\n",
      "    values = [np.mean(node.inhibitory[:, group]) for group in inh_groups]\n",
      "    plt.plot(values, 'ro-', label='Inh.')\n",
      "    \n",
      "    exc_groups = [np.nonzero(data.root.group_memberships.excitatory[:] == i)[0] for i in xrange(num_groups)]\n",
      "    values = [np.mean(node.excitatory[:, group]) for group in exc_groups]\n",
      "    plt.plot(values, 'ks-', label='Ex.')\n",
      "    \n",
      "    plt.title(\"%s (%s)\" % (title, node._v_name))\n",
      "    plt.ylabel(\"Av. Curr (%s)\" % node.inhibitory.attrs.unit)\n",
      "    plt.legend()"
     ],
     "language": "python",
     "metadata": {},
     "outputs": [],
     "prompt_number": 11
    },
    {
     "cell_type": "code",
     "collapsed": false,
     "input": [],
     "language": "python",
     "metadata": {},
     "outputs": []
    }
   ],
   "metadata": {}
  }
 ]
}