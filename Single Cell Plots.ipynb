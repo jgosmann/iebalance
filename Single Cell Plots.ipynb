{
 "metadata": {
  "name": "Single Cell Plots"
 },
 "nbformat": 3,
 "nbformat_minor": 0,
 "worksheets": [
  {
   "cells": [
    {
     "cell_type": "code",
     "collapsed": false,
     "input": [
      "# Load data\n",
      "in_filename = \"Data/simdata-med-t30000ms.h5\"\n",
      "\n",
      "try:\n",
      "    data.close()\n",
      "except:\n",
      "    pass\n",
      "\n",
      "import tables\n",
      "data = tables.openFile(in_filename, 'r')\n",
      "config = data.getNodeAttr('/', 'config')\n",
      "num_groups = config['inputs']['num_tunings']\n",
      "peak = num_groups // 2"
     ],
     "language": "python",
     "metadata": {},
     "outputs": [],
     "prompt_number": 1
    },
    {
     "cell_type": "heading",
     "level": 1,
     "metadata": {},
     "source": [
      "Plot conductances and firing rate"
     ]
    },
    {
     "cell_type": "code",
     "collapsed": false,
     "input": [
      "assert data.root.rates.times.attrs.unit == data.root.weights.inhibitory.times.attrs.unit\n",
      "plt.figure()\n",
      "max_rate = np.amax(data.root.rates.rates)\n",
      "for group in data.root.currents:\n",
      "    time = group.times[0]\n",
      "    plt.axvline(time, color=(0.4, 0.4, 0.4), linestyle=':')\n",
      "    plt.gca().annotate(\n",
      "        group._v_name, xy=(time, max_rate + 2), xytext=(time, max_rate + 7),\n",
      "        arrowprops={'facecolor': 'k', 'shrink': 0.2, 'width': 1, 'frac': 0.3, 'headwidth': 6},\n",
      "        horizontalalignment='center')\n",
      "plt.plot(data.root.rates.times, data.root.rates.rates, c='k')\n",
      "plt.ylim([0, max_rate + 10])\n",
      "plt.xlabel(\"Time (%s)\" % data.root.rates.times.attrs.unit)\n",
      "plt.ylabel(\"Firing rate (%s)\" % data.root.rates.rates.attrs.unit)\n",
      "\n",
      "plt.twinx()\n",
      "scaled_weights = data.root.weights.inhibitory.weights[:, :] / 1e-12\n",
      "for i in xrange(peak - 2, peak + 1):\n",
      "    selection, = np.nonzero(data.root.group_memberships.inhibitory[:] == i)\n",
      "    plt.plot(\n",
      "        data.root.weights.inhibitory.times,\n",
      "        np.mean(scaled_weights[selection, :], axis=0),\n",
      "        '--', label=\"S%i\" % (i + 1),)    \n",
      "plt.ylim([0, np.amax(scaled_weights)])\n",
      "plt.ylabel(\"Ave. inh. cond. (p%s)\" % data.root.weights.inhibitory.weights.attrs.unit)\n",
      "plt.legend(loc='upper right', bbox_to_anchor=(0.95, 0.9))\n",
      "plt.tight_layout()"
     ],
     "language": "python",
     "metadata": {},
     "outputs": [],
     "prompt_number": 5
    },
    {
     "cell_type": "heading",
     "level": 1,
     "metadata": {},
     "source": [
      "Plot membrane currents"
     ]
    },
    {
     "cell_type": "code",
     "collapsed": false,
     "input": [
      "def plot_membrane_currents(group, duration=0.5):\n",
      "    selection = group.times < group.times[0] + duration\n",
      "    times = np.linspace(0.0, duration, np.sum(selection), endpoint=False)\n",
      "    exc = -np.sum(group.excitatory, axis=1)[selection] / 1e-9\n",
      "    inh = -np.sum(group.inhibitory, axis=1)[selection] / 1e-9\n",
      "    plt.plot(times, inh, c='gray', label='Inh.')\n",
      "    plt.plot(times, exc, c='k', label='Ex.')\n",
      "    plt.plot(times, exc + inh, c='g', label='Net')\n",
      "    plt.xlim([0.0, duration])\n",
      "    plt.ylim([-1.5, 1.5])\n",
      "    plt.xlabel(\"Time (%s)\" % group.times.attrs.unit)\n",
      "    plt.ylabel(\"Mem. Curr. (n%s)\" % group.excitatory.attrs.unit)\n",
      "    \n",
      "def plot_spikes(spiketimes, y):\n",
      "    if spiketimes.size > 0:\n",
      "        plt.scatter(spiketimes, np.repeat(y, spiketimes.size), c='r', edgecolor='r', s=2)\n",
      "\n",
      "plt.figure()\n",
      "titles = [\"Before\", \"During\", \"After\"]\n",
      "spikes = data.root.spikes\n",
      "duration = 0.5\n",
      "for i, (group, title) in enumerate(zip(data.root.currents, titles)):\n",
      "    plt.subplot(len(titles), 1, i + 1)\n",
      "    plot_membrane_currents(group, duration)\n",
      "    \n",
      "    end = group.times[-1]\n",
      "    start = end - duration\n",
      "    plot_spikes(spikes[np.logical_and(spikes > start, spikes <= end)] - start, -1.2)\n",
      "    \n",
      "    plt.title(\"%s (%s)\" % (title, group._v_name))\n",
      "    plt.legend(loc='center left', bbox_to_anchor=(1, 0.5))\n",
      "plt.tight_layout()\n",
      "plt.subplots_adjust(right=0.84)"
     ],
     "language": "python",
     "metadata": {},
     "outputs": [],
     "prompt_number": 3
    },
    {
     "cell_type": "heading",
     "level": 1,
     "metadata": {},
     "source": [
      "Plot synapse tuning"
     ]
    },
    {
     "cell_type": "code",
     "collapsed": false,
     "input": [
      "plt.figure()\n",
      "titles = [\"Before\", \"During\", \"After\"]\n",
      "for i, (node, title) in enumerate(zip(data.root.currents, titles)):\n",
      "    assert node.inhibitory.attrs.unit == node.excitatory.attrs.unit\n",
      "    plt.subplot(len(titles), 1, i + 1)\n",
      "\n",
      "    inh_groups = [np.nonzero(data.root.group_memberships.inhibitory[:] == i)[0] for i in xrange(num_groups)]\n",
      "    values = [-np.sum(np.mean(node.inhibitory[:, group], axis=0)) / 1e-12 for group in inh_groups]\n",
      "    plt.plot(values, 'ro-', label='Inh.')\n",
      "    \n",
      "    exc_groups = [np.nonzero(data.root.group_memberships.excitatory[:] == i)[0] for i in xrange(num_groups)]\n",
      "    values = [np.sum(np.mean(node.excitatory[:, group], axis=0)) / 1e-12 for group in exc_groups]\n",
      "    plt.plot(values, 'ks-', label='Ex.')\n",
      "    \n",
      "    plt.title(\"%s (%s)\" % (title, node._v_name))\n",
      "    plt.ylabel(\"Av. Curr (p%s)\" % node.inhibitory.attrs.unit)\n",
      "    plt.legend()\n",
      "plt.tight_layout()"
     ],
     "language": "python",
     "metadata": {},
     "outputs": [],
     "prompt_number": 4
    },
    {
     "cell_type": "code",
     "collapsed": false,
     "input": [],
     "language": "python",
     "metadata": {},
     "outputs": []
    }
   ],
   "metadata": {}
  }
 ]
}