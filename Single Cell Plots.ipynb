{
 "metadata": {
  "name": "Single Cell Plots"
 },
 "nbformat": 3,
 "nbformat_minor": 0,
 "worksheets": [
  {
   "cells": [
    {
     "cell_type": "code",
     "collapsed": false,
     "input": [
      "# Load data\n",
      "in_filename = \"Data/test.h5\"\n",
      "\n",
      "try:\n",
      "    data.close()\n",
      "except:\n",
      "    pass\n",
      "\n",
      "import tables\n",
      "data = tables.openFile(in_filename, 'r')\n",
      "config = data.getNodeAttr('/', 'config')\n",
      "try:\n",
      "    num_groups = config['inputs']['num_tunings']\n",
      "except:\n",
      "    num_groups = config['num_tunings']\n",
      "peak = num_groups // 2\n",
      "config"
     ],
     "language": "python",
     "metadata": {},
     "outputs": [
      {
       "output_type": "pyout",
       "prompt_number": 46,
       "text": [
        "{u'dt': [1, u'msecond'],\n",
        " u'inputs': {u'fraction_inhibitory': 0.2,\n",
        "  u'num_trains': 1000,\n",
        "  u'num_tunings': 8,\n",
        "  u'raw_signals': {u'approximate_normalization': 0.03,\n",
        "   u'background_activity': [5, u'hertz'],\n",
        "   u'dt': [0.1, u'msecond'],\n",
        "   u'filter_time_constant': [50, u'msecond'],\n",
        "   u'peak_firing_rate': [500, u'hertz'],\n",
        "   u'sparseness': 2},\n",
        "  u'refractory_period': [5, u'msecond']},\n",
        " u'model': {u'I_b': [0, u'amp'],\n",
        "  u'V_exc': [0, u'mvolt'],\n",
        "  u'V_inh': [-80, u'mvolt'],\n",
        "  u'V_rest': [-60, u'mvolt'],\n",
        "  u'beta': 0.3,\n",
        "  u'eta': 0.01,\n",
        "  u'g_exc_bar': [140, u'psiemens'],\n",
        "  u'g_inh_bar': [350, u'psiemens'],\n",
        "  u'g_leak': [10, u'nsiemens'],\n",
        "  u'init_inh_w': [35, u'psiemens'],\n",
        "  u'normalization': u'add_l2',\n",
        "  u'refractory_period': [5, u'msecond'],\n",
        "  u'rho': [5, u'hertz'],\n",
        "  u'synapses': {u'excitatory': {u'equations': [u'dxPre/dt = -xPre / tau_stdp : 1 (event-driven)',\n",
        "     u'w : 1'],\n",
        "    u'post': [u'x_post += 1', u'w += g_exc_bar * eta * xPre'],\n",
        "    u'pre': [u'xPre += 1',\n",
        "     u'g_exc_post += w',\n",
        "     u'w += g_exc_bar * eta * x_post']},\n",
        "   u'inhibitory': {u'equations': [u'dxPre/dt = -xPre / tau_stdp : 1 (event-driven)',\n",
        "     u'w : 1'],\n",
        "    u'post': [u'x_post += 1', u'w += g_inh_bar * eta * xPre'],\n",
        "    u'pre': [u'xPre += 1',\n",
        "     u'g_inh_post += w',\n",
        "     u'w += g_inh_bar * eta * (x_post - alpha)']}},\n",
        "  u'tau': [20, u'msecond'],\n",
        "  u'tau_exc': [5, u'msecond'],\n",
        "  u'tau_inh': [10, u'msecond'],\n",
        "  u'tau_ref': [5, u'msecond'],\n",
        "  u'tau_stdp': [20, u'msecond'],\n",
        "  u'tau_w': [120, u'second'],\n",
        "  u'threshold': [-50, u'mvolt']},\n",
        " u'num_trials': 50,\n",
        " u'recording': {u'current_timestep': 1,\n",
        "  u'rate_bin_size': [2, u'second'],\n",
        "  u'recording_duration': [4, u'second'],\n",
        "  u'store_times': [[4, 8, 16], u'second'],\n",
        "  u'weights_timestep': 1000},\n",
        " u'stimulus_duration': [5, u'second']}"
       ]
      }
     ],
     "prompt_number": 46
    },
    {
     "cell_type": "heading",
     "level": 1,
     "metadata": {},
     "source": [
      "Plot conductances and firing rate"
     ]
    },
    {
     "cell_type": "code",
     "collapsed": false,
     "input": [
      "assert data.root.rates.times.attrs.unit == data.root.weights.inhibitory.times.attrs.unit\n",
      "plt.figure()\n",
      "max_rate = np.amax(data.root.rates.rates)\n",
      "if hasattr(data.root, 'currents'):\n",
      "    for group in data.root.currents:\n",
      "        time = group.times[0]\n",
      "        plt.axvline(time, color=(0.4, 0.4, 0.4), linestyle=':')\n",
      "        plt.gca().annotate(\n",
      "            group._v_name, xy=(time, max_rate + 2), xytext=(time, max_rate + 7),\n",
      "            arrowprops={'facecolor': 'k', 'shrink': 0.2, 'width': 1, 'frac': 0.3, 'headwidth': 6},\n",
      "            horizontalalignment='center')\n",
      "plt.plot(data.root.rates.times, data.root.rates.rates, c='k')\n",
      "plt.ylim([0, max_rate + 10])\n",
      "plt.xlabel(\"Time (%s)\" % data.root.rates.times.attrs.unit)\n",
      "plt.ylabel(\"Firing rate (%s)\" % data.root.rates.rates.attrs.unit)\n",
      "\n",
      "plt.twinx()\n",
      "scaled_weights = data.root.weights.inhibitory.weights[:, :] / 1e-12\n",
      "for i in xrange(peak - 2, peak + 1):\n",
      "    selection, = np.nonzero(data.root.group_memberships.inhibitory[:] == i)\n",
      "    plt.plot(\n",
      "        data.root.weights.inhibitory.times,\n",
      "        np.mean(scaled_weights[selection, :], axis=0),\n",
      "        '--', label=\"S%i\" % (i + 1),)\n",
      "scaled_weights_exc = []"
     ],
     "language": "python",
     "metadata": {},
     "outputs": [],
     "prompt_number": 47
    },
    {
     "cell_type": "code",
     "collapsed": false,
     "input": [
      "scaled_weights_exc = data.root.weights.excitatory.weights[:, :] / 1e-12\n",
      "for i in xrange(peak - 2, peak + 1):\n",
      "    selection, = np.nonzero(data.root.group_memberships.excitatory[:] == i)\n",
      "    plt.plot(\n",
      "        data.root.weights.excitatory.times,\n",
      "        np.mean(scaled_weights_exc[selection, :], axis=0),\n",
      "        '--', label=\"S%i\" % (i + 1),)  "
     ],
     "language": "python",
     "metadata": {},
     "outputs": [],
     "prompt_number": 48
    },
    {
     "cell_type": "code",
     "collapsed": false,
     "input": [
      "plt.ylim([0, max(np.amax(scaled_weights), np.amax(scaled_weights_exc))])\n",
      "plt.ylabel(\"Ave. inh. cond. (p%s)\" % data.root.weights.inhibitory.weights.attrs.unit)\n",
      "plt.legend(loc='upper right', bbox_to_anchor=(0.95, 0.9))\n",
      "plt.tight_layout()"
     ],
     "language": "python",
     "metadata": {},
     "outputs": [],
     "prompt_number": 49
    },
    {
     "cell_type": "heading",
     "level": 1,
     "metadata": {},
     "source": [
      "Plot membrane currents"
     ]
    },
    {
     "cell_type": "code",
     "collapsed": false,
     "input": [
      "def plot_membrane_currents(group, duration=0.5):\n",
      "    selection = group.times < group.times[0] + duration\n",
      "    times = np.linspace(0.0, duration, np.sum(selection), endpoint=False)\n",
      "    exc = -np.sum(group.excitatory, axis=1)[selection] / 1e-9\n",
      "    inh = -np.sum(group.inhibitory, axis=1)[selection] / 1e-9\n",
      "    plt.plot(times, inh, c='gray', label='Inh.')\n",
      "    plt.plot(times, exc, c='k', label='Ex.')\n",
      "    plt.plot(times, exc + inh, c='g', label='Net')\n",
      "    plt.xlim([0.0, duration])\n",
      "    plt.ylim([-1.5, 1.5])\n",
      "    plt.xlabel(\"Time (%s)\" % group.times.attrs.unit)\n",
      "    plt.ylabel(\"Mem. Curr. (n%s)\" % group.excitatory.attrs.unit)\n",
      "    \n",
      "def plot_spikes(spiketimes, y):\n",
      "    if spiketimes.size > 0:\n",
      "        plt.scatter(spiketimes, np.repeat(y, spiketimes.size), c='r', edgecolor='r', s=2)\n",
      "\n",
      "plt.figure()\n",
      "titles = [\"Before\", \"During\", \"After\"]\n",
      "spikes = data.root.spikes\n",
      "duration = 0.5\n",
      "for i, (group, title) in enumerate(zip(data.root.currents, titles)):\n",
      "    plt.subplot(len(titles), 1, i + 1)\n",
      "    plot_membrane_currents(group, duration)\n",
      "    \n",
      "    end = group.times[-1]\n",
      "    start = end - duration\n",
      "    plot_spikes(spikes[np.logical_and(spikes > start, spikes <= end)] - start, -1.2)\n",
      "    \n",
      "    plt.title(\"%s (%s)\" % (title, group._v_name))\n",
      "    plt.legend(loc='center left', bbox_to_anchor=(1, 0.5))\n",
      "plt.tight_layout()\n",
      "plt.subplots_adjust(right=0.84)"
     ],
     "language": "python",
     "metadata": {},
     "outputs": [],
     "prompt_number": 3
    },
    {
     "cell_type": "heading",
     "level": 1,
     "metadata": {},
     "source": [
      "Plot synapse tuning"
     ]
    },
    {
     "cell_type": "code",
     "collapsed": false,
     "input": [
      "plt.figure()\n",
      "titles = [\"Before\", \"During\", \"After\"]\n",
      "for i, (node, title) in enumerate(zip(data.root.currents, titles)):\n",
      "    assert node.inhibitory.attrs.unit == node.excitatory.attrs.unit\n",
      "    plt.subplot(len(titles), 1, i + 1)\n",
      "\n",
      "    inh_groups = [np.nonzero(data.root.group_memberships.inhibitory[:] == i)[0] for i in xrange(num_groups)]\n",
      "    values = [-np.sum(np.mean(node.inhibitory[:, group], axis=0)) / 1e-12 for group in inh_groups]\n",
      "    plt.plot(values, 'ro-', label='Inh.')\n",
      "    \n",
      "    exc_groups = [np.nonzero(data.root.group_memberships.excitatory[:] == i)[0] for i in xrange(num_groups)]\n",
      "    values = [np.sum(np.mean(node.excitatory[:, group], axis=0)) / 1e-12 for group in exc_groups]\n",
      "    plt.plot(values, 'ks-', label='Ex.')\n",
      "    \n",
      "    plt.title(\"%s (%s)\" % (title, node._v_name))\n",
      "    plt.ylabel(\"Av. Curr (p%s)\" % node.inhibitory.attrs.unit)\n",
      "    plt.legend()\n",
      "plt.tight_layout()"
     ],
     "language": "python",
     "metadata": {},
     "outputs": [
      {
       "ename": "IndexError",
       "evalue": "Index out of bounds: 1",
       "output_type": "pyerr",
       "traceback": [
        "\u001b[0;31m---------------------------------------------------------------------------\u001b[0m\n\u001b[0;31mIndexError\u001b[0m                                Traceback (most recent call last)",
        "\u001b[0;32m<ipython-input-21-f0d4b72869fa>\u001b[0m in \u001b[0;36m<module>\u001b[0;34m()\u001b[0m\n\u001b[1;32m      6\u001b[0m \u001b[0;34m\u001b[0m\u001b[0m\n\u001b[1;32m      7\u001b[0m     \u001b[0minh_groups\u001b[0m \u001b[0;34m=\u001b[0m \u001b[0;34m[\u001b[0m\u001b[0mnp\u001b[0m\u001b[0;34m.\u001b[0m\u001b[0mnonzero\u001b[0m\u001b[0;34m(\u001b[0m\u001b[0mdata\u001b[0m\u001b[0;34m.\u001b[0m\u001b[0mroot\u001b[0m\u001b[0;34m.\u001b[0m\u001b[0mgroup_memberships\u001b[0m\u001b[0;34m.\u001b[0m\u001b[0minhibitory\u001b[0m\u001b[0;34m[\u001b[0m\u001b[0;34m:\u001b[0m\u001b[0;34m]\u001b[0m \u001b[0;34m==\u001b[0m \u001b[0mi\u001b[0m\u001b[0;34m)\u001b[0m\u001b[0;34m[\u001b[0m\u001b[0;36m0\u001b[0m\u001b[0;34m]\u001b[0m \u001b[0;32mfor\u001b[0m \u001b[0mi\u001b[0m \u001b[0;32min\u001b[0m \u001b[0mxrange\u001b[0m\u001b[0;34m(\u001b[0m\u001b[0mnum_groups\u001b[0m\u001b[0;34m)\u001b[0m\u001b[0;34m]\u001b[0m\u001b[0;34m\u001b[0m\u001b[0m\n\u001b[0;32m----> 8\u001b[0;31m     \u001b[0mvalues\u001b[0m \u001b[0;34m=\u001b[0m \u001b[0;34m[\u001b[0m\u001b[0;34m-\u001b[0m\u001b[0mnp\u001b[0m\u001b[0;34m.\u001b[0m\u001b[0msum\u001b[0m\u001b[0;34m(\u001b[0m\u001b[0mnp\u001b[0m\u001b[0;34m.\u001b[0m\u001b[0mmean\u001b[0m\u001b[0;34m(\u001b[0m\u001b[0mnode\u001b[0m\u001b[0;34m.\u001b[0m\u001b[0minhibitory\u001b[0m\u001b[0;34m[\u001b[0m\u001b[0;34m:\u001b[0m\u001b[0;34m,\u001b[0m \u001b[0mgroup\u001b[0m\u001b[0;34m]\u001b[0m\u001b[0;34m,\u001b[0m \u001b[0maxis\u001b[0m\u001b[0;34m=\u001b[0m\u001b[0;36m0\u001b[0m\u001b[0;34m)\u001b[0m\u001b[0;34m)\u001b[0m \u001b[0;34m/\u001b[0m \u001b[0;36m1e-12\u001b[0m \u001b[0;32mfor\u001b[0m \u001b[0mgroup\u001b[0m \u001b[0;32min\u001b[0m \u001b[0minh_groups\u001b[0m\u001b[0;34m]\u001b[0m\u001b[0;34m\u001b[0m\u001b[0m\n\u001b[0m\u001b[1;32m      9\u001b[0m     \u001b[0mplt\u001b[0m\u001b[0;34m.\u001b[0m\u001b[0mplot\u001b[0m\u001b[0;34m(\u001b[0m\u001b[0mvalues\u001b[0m\u001b[0;34m,\u001b[0m \u001b[0;34m'ro-'\u001b[0m\u001b[0;34m,\u001b[0m \u001b[0mlabel\u001b[0m\u001b[0;34m=\u001b[0m\u001b[0;34m'Inh.'\u001b[0m\u001b[0;34m)\u001b[0m\u001b[0;34m\u001b[0m\u001b[0m\n\u001b[1;32m     10\u001b[0m \u001b[0;34m\u001b[0m\u001b[0m\n",
        "\u001b[0;32m/opt/local/Library/Frameworks/Python.framework/Versions/2.7/lib/python2.7/site-packages/tables/array.pyc\u001b[0m in \u001b[0;36m__getitem__\u001b[0;34m(self, key)\u001b[0m\n\u001b[1;32m    624\u001b[0m             \u001b[0;32mexcept\u001b[0m \u001b[0mTypeError\u001b[0m\u001b[0;34m:\u001b[0m\u001b[0;34m\u001b[0m\u001b[0m\n\u001b[1;32m    625\u001b[0m                 \u001b[0;31m# Finally, try with a fancy selection\u001b[0m\u001b[0;34m\u001b[0m\u001b[0;34m\u001b[0m\u001b[0m\n\u001b[0;32m--> 626\u001b[0;31m                 \u001b[0mselection\u001b[0m\u001b[0;34m,\u001b[0m \u001b[0mreorder\u001b[0m\u001b[0;34m,\u001b[0m \u001b[0mshape\u001b[0m \u001b[0;34m=\u001b[0m \u001b[0mself\u001b[0m\u001b[0;34m.\u001b[0m\u001b[0m_fancySelection\u001b[0m\u001b[0;34m(\u001b[0m\u001b[0mkey\u001b[0m\u001b[0;34m)\u001b[0m\u001b[0;34m\u001b[0m\u001b[0m\n\u001b[0m\u001b[1;32m    627\u001b[0m                 \u001b[0marr\u001b[0m \u001b[0;34m=\u001b[0m \u001b[0mself\u001b[0m\u001b[0;34m.\u001b[0m\u001b[0m_readSelection\u001b[0m\u001b[0;34m(\u001b[0m\u001b[0mselection\u001b[0m\u001b[0;34m,\u001b[0m \u001b[0mreorder\u001b[0m\u001b[0;34m,\u001b[0m \u001b[0mshape\u001b[0m\u001b[0;34m)\u001b[0m\u001b[0;34m\u001b[0m\u001b[0m\n\u001b[1;32m    628\u001b[0m \u001b[0;34m\u001b[0m\u001b[0m\n",
        "\u001b[0;32m/opt/local/Library/Frameworks/Python.framework/Versions/2.7/lib/python2.7/site-packages/tables/array.pyc\u001b[0m in \u001b[0;36m_fancySelection\u001b[0;34m(self, args)\u001b[0m\n\u001b[1;32m    570\u001b[0m                     \u001b[0;31m# monotonically increasing.\u001b[0m\u001b[0;34m\u001b[0m\u001b[0;34m\u001b[0m\u001b[0m\n\u001b[1;32m    571\u001b[0m                     \u001b[0;32mif\u001b[0m \u001b[0mselect_idx\u001b[0m \u001b[0;34m<\u001b[0m \u001b[0mlen\u001b[0m\u001b[0;34m(\u001b[0m\u001b[0mnexp\u001b[0m\u001b[0;34m)\u001b[0m\u001b[0;34m:\u001b[0m\u001b[0;34m\u001b[0m\u001b[0m\n\u001b[0;32m--> 572\u001b[0;31m                         \u001b[0mvalidate_number\u001b[0m\u001b[0;34m(\u001b[0m\u001b[0mnexp\u001b[0m\u001b[0;34m[\u001b[0m\u001b[0mselect_idx\u001b[0m\u001b[0;34m]\u001b[0m\u001b[0;34m,\u001b[0m \u001b[0mlength\u001b[0m\u001b[0;34m)\u001b[0m\u001b[0;34m\u001b[0m\u001b[0m\n\u001b[0m\u001b[1;32m    573\u001b[0m                     \u001b[0;32mif\u001b[0m \u001b[0mselect_idx\u001b[0m \u001b[0;34m==\u001b[0m \u001b[0;36m0\u001b[0m\u001b[0;34m:\u001b[0m\u001b[0;34m\u001b[0m\u001b[0m\n\u001b[1;32m    574\u001b[0m                         \u001b[0mstart\u001b[0m \u001b[0;34m=\u001b[0m \u001b[0;36m0\u001b[0m\u001b[0;34m\u001b[0m\u001b[0m\n",
        "\u001b[0;32m/opt/local/Library/Frameworks/Python.framework/Versions/2.7/lib/python2.7/site-packages/tables/array.pyc\u001b[0m in \u001b[0;36mvalidate_number\u001b[0;34m(num, length)\u001b[0m\n\u001b[1;32m    437\u001b[0m                 \u001b[0;32mraise\u001b[0m \u001b[0mTypeError\u001b[0m\u001b[0;34m(\u001b[0m\u001b[0;34m\"Illegal index: %r\"\u001b[0m \u001b[0;34m%\u001b[0m \u001b[0mnum\u001b[0m\u001b[0;34m)\u001b[0m\u001b[0;34m\u001b[0m\u001b[0m\n\u001b[1;32m    438\u001b[0m             \u001b[0;32mif\u001b[0m \u001b[0mnum\u001b[0m \u001b[0;34m>\u001b[0m \u001b[0mlength\u001b[0m\u001b[0;34m-\u001b[0m\u001b[0;36m1\u001b[0m\u001b[0;34m:\u001b[0m\u001b[0;34m\u001b[0m\u001b[0m\n\u001b[0;32m--> 439\u001b[0;31m                 \u001b[0;32mraise\u001b[0m \u001b[0mIndexError\u001b[0m\u001b[0;34m(\u001b[0m\u001b[0;34m\"Index out of bounds: %d\"\u001b[0m \u001b[0;34m%\u001b[0m \u001b[0mnum\u001b[0m\u001b[0;34m)\u001b[0m\u001b[0;34m\u001b[0m\u001b[0m\n\u001b[0m\u001b[1;32m    440\u001b[0m \u001b[0;34m\u001b[0m\u001b[0m\n\u001b[1;32m    441\u001b[0m \u001b[0;34m\u001b[0m\u001b[0m\n",
        "\u001b[0;31mIndexError\u001b[0m: Index out of bounds: 1"
       ]
      }
     ],
     "prompt_number": 21
    },
    {
     "cell_type": "code",
     "collapsed": false,
     "input": [
      "plt.figure()\n",
      "a = np.asarray([np.mean(data.root.weights.excitatory.weights[np.nonzero(data.root.group_memberships.excitatory[:] == i)[0], :], axis=1) for i in xrange(num_groups)])\n",
      "plt.plot(a[:, 0])\n",
      "plt.plot(a[:, -1])"
     ],
     "language": "python",
     "metadata": {},
     "outputs": [
      {
       "output_type": "pyout",
       "prompt_number": 13,
       "text": [
        "[<matplotlib.lines.Line2D at 0x10e568d10>]"
       ]
      }
     ],
     "prompt_number": 13
    },
    {
     "cell_type": "code",
     "collapsed": false,
     "input": [],
     "language": "python",
     "metadata": {},
     "outputs": [],
     "prompt_number": 7
    }
   ],
   "metadata": {}
  }
 ]
}