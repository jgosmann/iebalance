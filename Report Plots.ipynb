{
 "metadata": {
  "name": "Report Plots"
 },
 "nbformat": 3,
 "nbformat_minor": 0,
 "worksheets": [
  {
   "cells": [
    {
     "cell_type": "code",
     "collapsed": false,
     "input": [
      "import tables\n",
      "import neatplots.predefined\n",
      "import numpy as np\n",
      "\n",
      "units = {\n",
      "    'hertz': 'Hz',\n",
      "    'second': 's',\n",
      "    'siemens': 'S'\n",
      "}\n",
      "\n",
      "import matplotlib\n",
      "matplotlib.rcParams.update({\n",
      "    'font.size': 6,\n",
      "    'figure.figsize': (5.7874, 3.8583 * 0.9)\n",
      "})\n",
      "import matplotlib.pyplot as plt"
     ],
     "language": "python",
     "metadata": {},
     "outputs": [],
     "prompt_number": 1
    },
    {
     "cell_type": "heading",
     "level": 1,
     "metadata": {},
     "source": [
      "Firing Rates and Weights for Different Learning Rules"
     ]
    },
    {
     "cell_type": "code",
     "collapsed": false,
     "input": [
      "from matplotlib.ticker import MaxNLocator\n",
      "def plot_rates_and_weights(axes, data, title):\n",
      "    assert data.root.rates.times.attrs.unit == data.root.weights.inhibitory.times.attrs.unit\n",
      "    axes.plot(data.root.rates.times, data.root.rates.rates, c='k')\n",
      "    axes.set_ylim([0, 60])\n",
      "    axes.set_xlabel(\"Time (%s)\" % units[data.root.rates.times.attrs.unit])\n",
      "    axes.set_ylabel(\"Firing rate (%s)\" % units[data.root.rates.rates.attrs.unit])\n",
      "    axes.set_title(title)\n",
      "    axes.xaxis.set_major_locator(MaxNLocator(4))\n",
      "\n",
      "    a2 = axes.twinx()\n",
      "    a2.set_ylim([0, 800])\n",
      "    a2.yaxis.set_major_locator(MaxNLocator(4))\n",
      "    scaled_weights = data.root.weights.inhibitory.weights[:, :] / 1e-12\n",
      "    config = data.getNodeAttr('/', 'config')\n",
      "    peak = config['inputs']['num_tunings'] // 2\n",
      "    for i, color in zip(reversed(xrange(peak - 2, peak + 1)), neatplots.predefined.summer.thin):\n",
      "        selection, = np.nonzero(data.root.group_memberships.inhibitory[:] == i)\n",
      "        a2.plot(\n",
      "            data.root.weights.inhibitory.times,\n",
      "            np.mean(scaled_weights[selection, :], axis=0),\n",
      "            '--', label=\"S%i\" % (i + 1), linewidth=1.5, color=color)\n",
      "    a2.set_ylabel(\"Syn. Weights (p%s)\" % units[data.root.weights.inhibitory.weights.attrs.unit])\n",
      "    return a2"
     ],
     "language": "python",
     "metadata": {},
     "outputs": [],
     "prompt_number": 23
    },
    {
     "cell_type": "code",
     "collapsed": false,
     "input": [
      "to_plot = [\n",
      "    ('Data/simdata-long.h5', 'Vogels et al.'),\n",
      "    ('Data/simdata-nodecay.h5', 'no decay'),\n",
      "    ('Data/simdata-long-t120s.h5', 'exponential decay'),\n",
      "    ('Data/simdata-weight-dependent.h5', 'spike related decay')]\n",
      "plt.figure()\n",
      "for i, (filename, title) in enumerate(to_plot):\n",
      "    axes = plt.subplot((len(to_plot) + 1) // 2, 2, i + 1)\n",
      "    with tables.openFile(filename, 'r') as data:\n",
      "        legend_axes = plot_rates_and_weights(axes, data, title)\n",
      "\n",
      "handles, labels = legend_axes.get_legend_handles_labels()\n",
      "plt.figlegend(handles, labels, 'lower center', ncol=3, frameon=False)\n",
      "        \n",
      "plt.tight_layout(rect=(0, 0.05, 1, 1))"
     ],
     "language": "python",
     "metadata": {},
     "outputs": [],
     "prompt_number": 24
    },
    {
     "cell_type": "code",
     "collapsed": false,
     "input": [
      "plt.savefig('report/figures/rates_weights.pdf')"
     ],
     "language": "python",
     "metadata": {},
     "outputs": [],
     "prompt_number": 25
    },
    {
     "cell_type": "heading",
     "level": 2,
     "metadata": {},
     "source": [
      "Excitatory plasticity"
     ]
    },
    {
     "cell_type": "code",
     "collapsed": false,
     "input": [
      "from matplotlib.ticker import MaxNLocator\n",
      "def plot_rates(axes, data, title):\n",
      "    assert data.root.rates.times.attrs.unit == data.root.weights.inhibitory.times.attrs.unit\n",
      "    axes.plot(data.root.rates.times, data.root.rates.rates, c=neatplots.predefined.summer.thick[2])\n",
      "    axes.set_ylim([0, 60])\n",
      "    axes.set_title(title)\n",
      "    axes.xaxis.set_major_locator(MaxNLocator(2))\n",
      "\n",
      "def plot_inh_weights(axes, data, inh_y_lim=800):\n",
      "    axes.set_ylim([0, inh_y_lim])\n",
      "    axes.yaxis.set_major_locator(MaxNLocator(4))\n",
      "    axes.xaxis.set_major_locator(MaxNLocator(2))\n",
      "    scaled_weights = data.root.weights.inhibitory.weights[:, :] / 1e-12\n",
      "    config = data.getNodeAttr('/', 'config')\n",
      "    peak = config['inputs']['num_tunings'] // 2\n",
      "    for i, color in zip(reversed(xrange(peak - 1, peak + 1)), neatplots.predefined.summer.thin):\n",
      "        selection, = np.nonzero(data.root.group_memberships.inhibitory[:] == i)\n",
      "        axes.plot(\n",
      "            data.root.weights.inhibitory.times,\n",
      "            np.mean(scaled_weights[selection, :], axis=0),\n",
      "            '-', label=\"S%i\" % (i + 1), color=color)\n",
      "    return axes\n",
      "\n",
      "def plot_exc_weights(axes, data):\n",
      "    axes.set_ylim([0, 800])\n",
      "    axes.yaxis.set_major_locator(MaxNLocator(4))\n",
      "    axes.xaxis.set_major_locator(MaxNLocator(2))\n",
      "    scaled_weights = data.root.weights.excitatory.weights[:, :] / 1e-12\n",
      "    config = data.getNodeAttr('/', 'config')\n",
      "    peak = config['inputs']['num_tunings'] // 2\n",
      "    for i, color in zip(reversed(xrange(peak - 1, peak + 1)), neatplots.predefined.summer.thin):\n",
      "        selection, = np.nonzero(data.root.group_memberships.excitatory[:] == i)\n",
      "        axes.plot(\n",
      "            data.root.weights.excitatory.times,\n",
      "            np.mean(scaled_weights[selection, :], axis=0),\n",
      "            '-', label=\"S%i\" % (i + 1), color=color)"
     ],
     "language": "python",
     "metadata": {},
     "outputs": [],
     "prompt_number": 21
    },
    {
     "cell_type": "code",
     "collapsed": false,
     "input": [
      "def plot_exc_stdp(to_plot, inh_y_lim=800):\n",
      "    plt.figure(figsize=(5.7874 / 1.5, 3.8583 * 0.9))\n",
      "    for i, (filename, title) in enumerate(to_plot):\n",
      "        with tables.openFile(filename, 'r') as data:\n",
      "            axes = plt.subplot(3, len(to_plot), i + 1)\n",
      "            plot_rates(axes, data, title)\n",
      "            if i == 0:\n",
      "                axes.set_ylabel(\"Firing rate (%s)\" % units[data.root.rates.rates.attrs.unit])\n",
      "            axes = plt.subplot(3, len(to_plot), i + 1 + len(to_plot))\n",
      "            legend_axes = plot_inh_weights(axes, data, inh_y_lim)\n",
      "            if i == 0:\n",
      "                axes.set_ylabel(\"Inh. Syn. Weights (p%s)\" % units[data.root.weights.inhibitory.weights.attrs.unit])\n",
      "            axes = plt.subplot(3, len(to_plot), i + 1 + 2 * len(to_plot))\n",
      "            plot_exc_weights(axes, data)\n",
      "            if i == 0:\n",
      "                axes.set_ylabel(\"Exc. Syn. Weights (p%s)\" % units[data.root.weights.inhibitory.weights.attrs.unit])\n",
      "            axes.set_xlabel(\"Time (%s)\" % units[data.root.rates.times.attrs.unit])\n",
      "\n",
      "    handles, labels = legend_axes.get_legend_handles_labels()\n",
      "    plt.figlegend(handles, labels, 'lower center', ncol=3, frameon=False)\n",
      "        \n",
      "    plt.tight_layout(rect=(0, 0.05, 1, 1))"
     ],
     "language": "python",
     "metadata": {},
     "outputs": [],
     "prompt_number": 22
    },
    {
     "cell_type": "code",
     "collapsed": false,
     "input": [
      "to_plot = [\n",
      "    ('Data/exc-stdp-mult-l2-r1-2.h5', r'ratio 1:2'),\n",
      "    ('Data/exc-stdp-mult-l2-r1.h5', 'ratio 1:1'),\n",
      "    ('Data/exc-stdp-mult-l2-r1.5.h5', 'ratio 3:2')]\n",
      "plot_exc_stdp(to_plot)\n",
      "plt.savefig('report/figures/exc-stdp-mult-l2.pdf')"
     ],
     "language": "python",
     "metadata": {},
     "outputs": [],
     "prompt_number": 23
    },
    {
     "cell_type": "code",
     "collapsed": false,
     "input": [
      "to_plot = [\n",
      "    ('Data/exc-stdp-exp-decay-mult-l2-r1-2.h5', r'ratio 1:2'),\n",
      "    ('Data/exc-stdp-exp-decay-mult-l2-r1.h5', 'ratio 1:1'),\n",
      "    ('Data/exc-stdp-exp-decay-mult-l2-r1.5.h5', 'ratio 3:2')]\n",
      "plot_exc_stdp(to_plot)\n",
      "plt.savefig('report/figures/exc-stdp-exp-decay-mult-l2.pdf')"
     ],
     "language": "python",
     "metadata": {},
     "outputs": [],
     "prompt_number": 24
    },
    {
     "cell_type": "code",
     "collapsed": false,
     "input": [
      "to_plot = [\n",
      "    ('Data/exc-stdp-add-l2-r1-2.h5', r'learning rate ratio 1:2'),\n",
      "    ('Data/exc-stdp-add-l2-r1.h5', 'learning rate ratio 1:1'),\n",
      "    ('Data/exc-stdp-add-l2-r1.5.h5', 'learning rate ratio 3:2')]\n",
      "plot_exc_stdp(to_plot)\n",
      "plt.savefig('report/figures/exc-stdp-add-l2.pdf')"
     ],
     "language": "python",
     "metadata": {},
     "outputs": [],
     "prompt_number": 16
    },
    {
     "cell_type": "code",
     "collapsed": false,
     "input": [
      "to_plot = [\n",
      "    ('Data/exc-stdp-exp-decay-add-l2-r1-2.h5', r'learning rate ratio 1:2'),\n",
      "    ('Data/exc-stdp-exp-decay-add-l2-r1.h5', 'learning rate ratio 1:1'),\n",
      "    ('Data/exc-stdp-exp-decay-add-l2-r1.5.h5', 'learning rate ratio 3:2')]\n",
      "plot_exc_stdp(to_plot)\n",
      "plt.savefig('report/figures/exc-stdp-exp-decay-add-l2.pdf')"
     ],
     "language": "python",
     "metadata": {},
     "outputs": [],
     "prompt_number": 17
    },
    {
     "cell_type": "code",
     "collapsed": false,
     "input": [
      "to_plot = [\n",
      "   ('Data/exc-stdp-add-l2.h5', 'learning rate ratio 1:1')]\n",
      "plot_exc_stdp(to_plot, 1100)\n",
      "plt.savefig('report/figures/exc-stdp-add-l2.pdf')"
     ],
     "language": "python",
     "metadata": {},
     "outputs": [],
     "prompt_number": 19
    },
    {
     "cell_type": "heading",
     "level": 1,
     "metadata": {},
     "source": [
      "Weight Tuning"
     ]
    },
    {
     "cell_type": "code",
     "collapsed": false,
     "input": [
      "def plot_weight_tuning(axes, data, title, num_groups):\n",
      "    colors = neatplots.predefined.summer.thin\n",
      "    inh_groups = [np.nonzero(data.root.group_memberships.inhibitory[:] == i)[0] for i in xrange(num_groups)]\n",
      "    values = [np.sum(data.root.weights.inhibitory.weights[group, -1]) / 1e-9 for group in inh_groups]\n",
      "    axes.plot(values, 'o-', c=colors[1], label='Inhibitory synapses')\n",
      "    if hasattr(data.root.weights, 'excitatory'):\n",
      "        exc_groups = [np.nonzero(data.root.group_memberships.excitatory[:] == i)[0] for i in xrange(num_groups)]\n",
      "        if len(data.root.weights.excitatory.weights.shape) < 2:\n",
      "            slices = [np.s_[group] for group in exc_groups]\n",
      "        else:\n",
      "            slices = [np.s_[group, -1] for group in exc_groups]\n",
      "        values = [np.sum(data.root.weights.excitatory.weights[s]) / 1e-9 for s in slices]\n",
      "        axes.plot(values, 's-', c=colors[0], label='Excitatory synapses')\n",
      "    axes.set_xticklabels(['S%i' % (i + 1) for i in xrange(num_groups)])\n",
      "    axes.set_xlabel('Signal no.')\n",
      "    axes.set_ylabel(u'Sum of Syn. Weights (nS)')\n",
      "    axes.set_ylim([0, 25])\n",
      "    axes.set_title(title)"
     ],
     "language": "python",
     "metadata": {},
     "outputs": [],
     "prompt_number": 2
    },
    {
     "cell_type": "code",
     "collapsed": false,
     "input": [
      "to_plot = [\n",
      "    ('Data/simdata-long.h5', 'Vogels et al.'),\n",
      "    ('Data/simdata-nodecay.h5', 'no decay'),\n",
      "    ('Data/simdata-long-t120s.h5', 'exponential decay'),\n",
      "    ('Data/simdata-weight-dependent.h5', 'spike related decay')]\n",
      "plt.figure()\n",
      "for i, (filename, title) in enumerate(to_plot):\n",
      "    axes = plt.subplot((len(to_plot) + 1) // 2, 2, i + 1)\n",
      "    with tables.openFile(filename, 'r') as data:\n",
      "        plot_weight_tuning(axes, data, title, data.getNodeAttr('/', 'config')['inputs']['num_tunings'])\n",
      "handles, labels = axes.get_legend_handles_labels()\n",
      "plt.figlegend(handles, labels, 'lower center', ncol=2, frameon=False)\n",
      "plt.tight_layout(rect=(0, 0.05, 1, 1))"
     ],
     "language": "python",
     "metadata": {},
     "outputs": [],
     "prompt_number": 3
    },
    {
     "cell_type": "code",
     "collapsed": false,
     "input": [
      "plt.savefig('report/figures/tuning.pdf')"
     ],
     "language": "python",
     "metadata": {},
     "outputs": [],
     "prompt_number": 4
    },
    {
     "cell_type": "heading",
     "level": 1,
     "metadata": {},
     "source": [
      "Firing Rates"
     ]
    },
    {
     "cell_type": "code",
     "collapsed": false,
     "input": [
      "import scipy.stats\n",
      "def plot_firing_rates(axes, data, title, inverse, regression, color=None, smallsize=False):\n",
      "    if color is None:\n",
      "        color = neatplots.predefined.summer.thin[0]\n",
      "    param = data.root.rates.col('tau_w')\n",
      "    if inverse:\n",
      "        param = 1.0 / param\n",
      "    \n",
      "    axes.scatter(param, data.root.rates.col('rate'), marker='o', edgecolors=color, facecolors='none')\n",
      "    axes.set_ylim([0, 40])\n",
      "    axes.set_xlim([0, axes.get_xlim()[1]])\n",
      "    axes.set_title(title)\n",
      "    if not smallsize:\n",
      "        axes.set_ylabel('Avg. Firing Rate (Hz)')\n",
      "    \n",
      "    if smallsize:\n",
      "        axes.xaxis.set_major_locator(MaxNLocator(2))\n",
      "        axes.yaxis.set_major_locator(MaxNLocator(4))\n",
      "    \n",
      "    if regression == 'linear':\n",
      "        slope, intercept, unused, unused, unused = scipy.stats.linregress(param, data.root.rates.col('rate'))\n",
      "        axes.plot([0, axes.get_xlim()[1]], [intercept, slope * axes.get_xlim()[1] + intercept], c='k')\n",
      "    elif regression == 'log':\n",
      "        slope, intercept, unused, unused, unused = scipy.stats.linregress(np.log(param), data.root.rates.col('rate'))\n",
      "        fn = lambda x: np.maximum(0, slope * np.log(x) + intercept)\n",
      "        xs = np.linspace(0, axes.get_xlim()[1], 100)\n",
      "        axes.plot(xs, fn(xs), c='k')"
     ],
     "language": "python",
     "metadata": {},
     "outputs": [],
     "prompt_number": 2
    },
    {
     "cell_type": "code",
     "collapsed": false,
     "input": [
      "to_plot = [\n",
      "    ('Data/rates-orig.h5', 'Vogels et al.', r'$\\rho_0$ (Hz)', False, 'linear'),\n",
      "    ('Data/rates2.h5', 'exponential decay', r'$1/\\tau_w$ (1/s)', True, 'log'),\n",
      "    ('Data/rates-weight-dependent.h5', 'spike related decay', r'$\\beta$', False, 'log')]\n",
      "plt.figure(figsize=(5.7874, 3.8583 / 2))\n",
      "for i, (filename, title, label, inverse, regression) in enumerate(to_plot):\n",
      "    axes = plt.subplot(1, len(to_plot), i + 1)\n",
      "    with tables.openFile(filename, 'r') as data:\n",
      "        plot_firing_rates(axes, data, title, inverse, regression)\n",
      "        axes.set_xlabel(label)\n",
      "plt.tight_layout()"
     ],
     "language": "python",
     "metadata": {},
     "outputs": [],
     "prompt_number": 5
    },
    {
     "cell_type": "code",
     "collapsed": false,
     "input": [
      "plt.savefig('report/figures/rates.pdf')"
     ],
     "language": "python",
     "metadata": {},
     "outputs": [],
     "prompt_number": 6
    },
    {
     "cell_type": "heading",
     "level": 6,
     "metadata": {},
     "source": [
      "Plots for Presentation"
     ]
    },
    {
     "cell_type": "code",
     "collapsed": false,
     "input": [
      "to_plot = [\n",
      "    ('Data/rates-orig.h5', '(A)', r'$\\rho_0$ (Hz)', False, 'linear'),\n",
      "    ('Data/rates2.h5', '(B)', r'$1/\\tau_w$ (1/s)', True, 'log')]\n",
      "from neatplots.latex import LatexBeamer\n",
      "LatexBeamer().apply()\n",
      "colors = [(204 / 255.0, 0 / 255.0, 0 / 255.0), (51 / 255.0, 51 / 255.0, 179 / 255.0), (0 / 255.0, 110 / 255.0, 0 / 255.0)]\n",
      "plt.figure()\n",
      "for i, (filename, title, label, inverse, regression) in enumerate(to_plot):\n",
      "    axes = plt.subplot(1, len(to_plot), i + 1)\n",
      "    with tables.openFile(filename, 'r') as data:\n",
      "        plot_firing_rates(axes, data, title, inverse, regression, colors[1], True)\n",
      "        axes.set_xlabel(label)\n",
      "    if i == 0:\n",
      "        axes.set_ylabel('Firing Rate (Hz)')\n",
      "plt.tight_layout(rect=(0, 0.1, 1, 1))"
     ],
     "language": "python",
     "metadata": {},
     "outputs": [],
     "prompt_number": 24
    },
    {
     "cell_type": "code",
     "collapsed": false,
     "input": [
      "plt.savefig('presentation/figures/rates.pdf')"
     ],
     "language": "python",
     "metadata": {},
     "outputs": [],
     "prompt_number": 25
    },
    {
     "cell_type": "heading",
     "level": 1,
     "metadata": {},
     "source": [
      "Correlograms"
     ]
    },
    {
     "cell_type": "code",
     "collapsed": false,
     "input": [
      "color = (51 / 255.0, 51 / 255.0, 179 / 255.0)\n",
      "savepath = 'presentation/figures/correlations.pdf'\n",
      "l1 = '(B)'\n",
      "l2 = '(A)'\n",
      "crosscor = u'cross cor\u00b2'\n",
      "max_y = 2\n",
      "from neatplots.latex import LatexBeamer\n",
      "LatexBeamer().apply()\n",
      "step = 2"
     ],
     "language": "python",
     "metadata": {},
     "outputs": [],
     "prompt_number": 16
    },
    {
     "cell_type": "code",
     "collapsed": false,
     "input": [
      "color = neatplots.predefined.summer.thick[0]\n",
      "savepath = 'report/figures/correlations.pdf'\n",
      "l1 = 'exp. decay learning rule'\n",
      "l2 = 'Vogels et al. learning rule'\n",
      "crosscor = u'Cross Correlation\u00b2'\n",
      "max_y = 5\n",
      "step = 1"
     ],
     "language": "python",
     "metadata": {},
     "outputs": []
    },
    {
     "cell_type": "code",
     "collapsed": false,
     "input": [
      "from spykeutils.rate_estimation import psth\n",
      "import neo\n",
      "import quantities as pq\n",
      "from config import quantity\n",
      "from matplotlib.ticker import MaxNLocator\n",
      "\n",
      "def spike_train_of_trial(data, trial_idx):\n",
      "    config = data.getNodeAttr('/', 'config')\n",
      "    stimulus_duration = quantity(config['stimulus_duration']) * pq.s\n",
      "    times = data.root.spikes._f_getChild('trial%i' % trial_idx) * pq.s\n",
      "    return neo.SpikeTrain(times - trial_idx * stimulus_duration, stimulus_duration)\n",
      "\n",
      "def get_correlogram(data):\n",
      "    config = data.getNodeAttr('/', 'config')\n",
      "    trains = [spike_train_of_trial(data, i) for i in xrange(data.root.spikes._v_nchildren)]\n",
      "    bin_size = 10 * pq.ms\n",
      "    rates, bins = psth({0: trains}, bin_size)\n",
      "    dt = quantity(config['dt'])\n",
      "    window_size = int(bin_size.rescale(pq.s).magnitude / dt)\n",
      "    downsampled = [np.mean(s[:].reshape((-1, window_size)), axis=1) for s in data.root.signals]\n",
      "    return [np.corrcoef(rates[0], signal)[0, 1] ** 2 for signal in downsampled]\n",
      "\n",
      "def plot_correlogram(axes, data):\n",
      "    cor = get_correlogram(data)\n",
      "    axes.bar(np.arange(len(cor)), cor, facecolor=color)\n",
      "    config = data.getNodeAttr('/', 'config')\n",
      "    num_groups = config['inputs']['num_tunings']\n",
      "    axes.set_xticks([i + 0.4 for i in xrange(num_groups)][::step])\n",
      "    axes.set_xticklabels(['S%i' % (i + 1) for i in xrange(num_groups)][::step])\n",
      "    axes.set_ylim([0, 0.5])\n",
      "    axes.yaxis.set_major_locator(MaxNLocator(max_y))"
     ],
     "language": "python",
     "metadata": {},
     "outputs": [],
     "prompt_number": 17
    },
    {
     "cell_type": "code",
     "collapsed": false,
     "input": [
      "plt.figure()\n",
      "axes = plt.subplot(2, 2, 1)\n",
      "with tables.openFile('Data/trained.h5') as data:\n",
      "    plot_correlogram(axes, data)\n",
      "axes.set_ylabel(crosscor)\n",
      "axes.set_title(r'$\\tau_s = 50\\,\\mathsf{ms}$')\n",
      "axes = plt.subplot(2, 2, 2)\n",
      "with tables.openFile('Data/trained-long-filter.h5') as data:\n",
      "    plot_correlogram(axes, data)\n",
      "axes.set_title(r'$\\tau_s = 300\\,\\mathsf{ms}$')\n",
      "axes = plt.subplot(2, 2, 3)\n",
      "with tables.openFile('Data/exp-decay-trained.h5') as data:\n",
      "    plot_correlogram(axes, data)\n",
      "axes.set_xlabel('Signal no.')\n",
      "axes.set_ylabel(crosscor)\n",
      "axes = plt.subplot(2, 2, 4)\n",
      "with tables.openFile('Data/trained-t120s-long-filter.h5') as data:\n",
      "    plot_correlogram(axes, data)\n",
      "axes.set_xlabel('Signal no.')"
     ],
     "language": "python",
     "metadata": {},
     "outputs": [
      {
       "output_type": "pyout",
       "prompt_number": 18,
       "text": [
        "<matplotlib.text.Text at 0x1130ec110>"
       ]
      }
     ],
     "prompt_number": 18
    },
    {
     "cell_type": "code",
     "collapsed": false,
     "input": [
      "plt.figtext(0.04, 0.3, l1, rotation='vertical', horizontalalignment='center', verticalalignment='center')\n",
      "plt.figtext(0.04, 0.74, l2, rotation='vertical', horizontalalignment='center', verticalalignment='center')\n",
      "plt.tight_layout(rect=(0.04, 0, 1, 1))"
     ],
     "language": "python",
     "metadata": {},
     "outputs": [],
     "prompt_number": 19
    },
    {
     "cell_type": "code",
     "collapsed": false,
     "input": [
      "plt.savefig(savepath)"
     ],
     "language": "python",
     "metadata": {},
     "outputs": [],
     "prompt_number": 20
    },
    {
     "cell_type": "code",
     "collapsed": false,
     "input": [],
     "language": "python",
     "metadata": {},
     "outputs": []
    }
   ],
   "metadata": {}
  }
 ]
}